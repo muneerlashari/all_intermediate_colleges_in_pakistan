{
 "cells": [
  {
   "cell_type": "markdown",
   "metadata": {},
   "source": [
    "# **Topic: All the Intermediate Colleges in Pakistan**"
   ]
  },
  {
   "cell_type": "markdown",
   "metadata": {},
   "source": [
    "# **1.0 About Author**\n",
    "\n",
    "- Project: All the Intermediate Colleges in Pakistan\n",
    "- Author: Muneer Ahmed\n",
    "- Contact Info:\\\n",
    "[<img src=\"https://raw.githubusercontent.com/FortAwesome/Font-Awesome/6.x/svgs/brands/linkedin.svg\" width=\"50\" height=\"50\">](https://www.linkedin.com/in/muneerahmd/)\n",
    "[<img src=\"https://raw.githubusercontent.com/FortAwesome/Font-Awesome/6.x/svgs/brands/twitter.svg\" width=\"50\" height=\"50\">](https://twitter.com/muneer_ahmed87)\n",
    "[<img src=\"https://raw.githubusercontent.com/FortAwesome/Font-Awesome/6.x/svgs/brands/facebook.svg\" width=\"50\" height=\"50\">](https://www.facebook.com/muneer_ahmed87/)"
   ]
  },
  {
   "cell_type": "code",
   "execution_count": 3,
   "metadata": {},
   "outputs": [],
   "source": [
    "# from IPython.display import Image, display\n",
    "# img = Image(filename='.jpg')\n",
    "# display(img)"
   ]
  },
  {
   "cell_type": "markdown",
   "metadata": {},
   "source": [
    "# **2.0 About Data**\n",
    "- Data: All Intermediate Colleges in Pakistan\n",
    "- **Dataset:** 🔗 [*link*](https://drive.google.com/file/d/1-AO6pDf7ARvVTLT2D2j9zgyGaBmcJo_M/view)\n",
    "- The dataset received from `Codex Cue`IT Software Company"
   ]
  },
  {
   "cell_type": "markdown",
   "metadata": {},
   "source": [
    "## **2.1 Task**:\n",
    "- Exploratory Data Analysis (EDA) is a process of looking at data to understand what it can tell us. It involves cleaning the data, studying individual variables, and analyzing relationships between variables. During the analysis, we will take notes on what we observe. In the end, we will summarize our findings and draw conclusions from them"
   ]
  },
  {
   "cell_type": "markdown",
   "metadata": {},
   "source": [
    "## **2.2 Objectives**:\n",
    "- This EDA project analyzes data from intermediate colleges across Pakistan to uncover performance trends and regional disparities. By examining factors such as academic results, faculty quality, and resource allocation, the study aims to pinpoint areas needing improvement. The insights gained will inform targeted interventions designed to enhance educational standards nationwide"
   ]
  },
  {
   "cell_type": "markdown",
   "metadata": {},
   "source": [
    "## **2.3 Meta Data:**\n",
    "The dataset contains information about 1,630 intermediate colleges across Pakistan with the following columns:\n",
    "\n",
    "- **Name:** Name of the college.\n",
    "- **Location:** Address or location of the college.\n",
    "- **Study Program:** Programs offered by the college.\n",
    "- **Sector:** Public or Private sector.\n",
    "- **Affiliation:** Affiliation of the college (e.g., HEC, University of Sargodha).\n",
    "- **Rating:** Rating of the college.\n"
   ]
  },
  {
   "cell_type": "markdown",
   "metadata": {},
   "source": [
    "## **2.4 Version Used**:\n",
    "- Python 3.12.3"
   ]
  },
  {
   "cell_type": "markdown",
   "metadata": {},
   "source": [
    "## **3.0 Import Libraries**\n",
    "We are going to utilize the following libraries for our exploratory data analysis:\n",
    "- **Pandas**: A versatile library for data manipulation and analysis, aiding in tasks like filtering, sorting, and aggregation.\n",
    "- **Matplotlib**: A powerful data visualization tool, facilitating the creation of diverse plots and charts.\n",
    "- **Seaborn**: A statistical data visualization library built on Matplotlib, simplifying the creation of informative graphics.\n",
    "- **Plotly**: An interactive data visualization library that empowers users to create complex, publication-quality graphics."
   ]
  },
  {
   "cell_type": "code",
   "execution_count": 1,
   "metadata": {},
   "outputs": [],
   "source": [
    "# importing the labraries\n",
    "import pandas as pd\n",
    "\n",
    "# libraries for visualization\n",
    "import matplotlib.pyplot as plt\n",
    "import seaborn as sns\n",
    "import plotly.express as px\n",
    "\n",
    "# Display the plot inline in the notebook\n",
    "%matplotlib inline\n",
    "\n",
    "# hide all warnings\n",
    "import warnings\n",
    "warnings.filterwarnings('ignore')"
   ]
  },
  {
   "cell_type": "markdown",
   "metadata": {},
   "source": [
    "# **4.0 Data Loading,  Preparation, Cleaning and Wrangling**\n",
    " #### 4.1. Load the csv file with pandas & creating the dtaframe and understanding the data present in the dataset"
   ]
  },
  {
   "cell_type": "code",
   "execution_count": 26,
   "metadata": {},
   "outputs": [],
   "source": [
    "df = pd.read_csv('all_intermediate_colleges_pakistan.csv')"
   ]
  },
  {
   "cell_type": "markdown",
   "metadata": {},
   "source": [
    "# **4.4 Exploring and describing the dataset**\n",
    "- This code **pd.set_option()** to display all columns and all rows in a DataFrame. \n",
    "- This is useful for ensuring that no data is hidden when viewing large datasets"
   ]
  },
  {
   "cell_type": "code",
   "execution_count": 6,
   "metadata": {},
   "outputs": [],
   "source": [
    "pd.set_option('display.max_columns', None) # To display all columns\n",
    "pd.set_option('display.max_rows', None) # To display all rows"
   ]
  },
  {
   "cell_type": "markdown",
   "metadata": {},
   "source": [
    "# **4.5 Take a first look at the full data picture**\n",
    "- The command df.head() is used to view the first 10 rows of data.\n",
    "- It helps the data analyst to make analysis decisions according to data."
   ]
  },
  {
   "cell_type": "code",
   "execution_count": 7,
   "metadata": {},
   "outputs": [
    {
     "data": {
      "text/html": [
       "<div>\n",
       "<style scoped>\n",
       "    .dataframe tbody tr th:only-of-type {\n",
       "        vertical-align: middle;\n",
       "    }\n",
       "\n",
       "    .dataframe tbody tr th {\n",
       "        vertical-align: top;\n",
       "    }\n",
       "\n",
       "    .dataframe thead th {\n",
       "        text-align: right;\n",
       "    }\n",
       "</style>\n",
       "<table border=\"1\" class=\"dataframe\">\n",
       "  <thead>\n",
       "    <tr style=\"text-align: right;\">\n",
       "      <th></th>\n",
       "      <th>Name</th>\n",
       "      <th>Location</th>\n",
       "      <th>Study Program</th>\n",
       "      <th>Sector</th>\n",
       "      <th>Affiliation</th>\n",
       "      <th>Rating</th>\n",
       "    </tr>\n",
       "  </thead>\n",
       "  <tbody>\n",
       "    <tr>\n",
       "      <th>0</th>\n",
       "      <td>Campus.pk Lahore</td>\n",
       "      <td>Office 206, 2nd Floor Siddique Trade Center Ma...</td>\n",
       "      <td>FSc Pre Engineering Fsc Pre Medical</td>\n",
       "      <td>Private</td>\n",
       "      <td>ads</td>\n",
       "      <td>0*</td>\n",
       "    </tr>\n",
       "    <tr>\n",
       "      <th>1</th>\n",
       "      <td>Allama Iqbal Open University Aiou Islamabad</td>\n",
       "      <td>Sector H-8, Islamabad-44000</td>\n",
       "      <td>FSc Pre Engineering ICs Computer Science FSc P...</td>\n",
       "      <td>Public</td>\n",
       "      <td>NaN</td>\n",
       "      <td>5*</td>\n",
       "    </tr>\n",
       "    <tr>\n",
       "      <th>2</th>\n",
       "      <td>Government College University Gcu Lahore</td>\n",
       "      <td>GC University, Katchery Road Lahore 54000</td>\n",
       "      <td>FSc Pre Engineering ICS Computer Science FSc P...</td>\n",
       "      <td>Public</td>\n",
       "      <td>HEC</td>\n",
       "      <td>4*</td>\n",
       "    </tr>\n",
       "    <tr>\n",
       "      <th>3</th>\n",
       "      <td>Govt College University GCU Faisalabad</td>\n",
       "      <td>Kotwali Rd, Faisalabad 38000</td>\n",
       "      <td>FSc Pre-Engineering ICS FSc Pre-Medical Icom F...</td>\n",
       "      <td>Public</td>\n",
       "      <td>HEC</td>\n",
       "      <td>3*</td>\n",
       "    </tr>\n",
       "    <tr>\n",
       "      <th>4</th>\n",
       "      <td>Lahore College For Women University (Lcwu) Lahore</td>\n",
       "      <td>Near Wapda Flats, Jail Road, Lahore</td>\n",
       "      <td>FA Arts FSc Pre Engineering ICS Physics ICS St...</td>\n",
       "      <td>Public</td>\n",
       "      <td>NaN</td>\n",
       "      <td>5*</td>\n",
       "    </tr>\n",
       "    <tr>\n",
       "      <th>5</th>\n",
       "      <td>University Of Agriculture Faisalabad</td>\n",
       "      <td>University of Agriculture, Agriculture Univers...</td>\n",
       "      <td>FSc Pre Agriculture</td>\n",
       "      <td>Public</td>\n",
       "      <td>NaN</td>\n",
       "      <td>5*</td>\n",
       "    </tr>\n",
       "    <tr>\n",
       "      <th>6</th>\n",
       "      <td>Pir Mehr Ali Shah Arid Agriculture University ...</td>\n",
       "      <td>PMAS-Arid Agriculture University Rawalpindi, S...</td>\n",
       "      <td>FSc Pre Agriculture</td>\n",
       "      <td>Public</td>\n",
       "      <td>NaN</td>\n",
       "      <td>5*</td>\n",
       "    </tr>\n",
       "    <tr>\n",
       "      <th>7</th>\n",
       "      <td>International Islamic University Iiu Islamabad</td>\n",
       "      <td>International Islamic University Sector H-10, ...</td>\n",
       "      <td>FSc Pre-Engineering ICS FSc Pre-Medical Icom F...</td>\n",
       "      <td>Public</td>\n",
       "      <td>NaN</td>\n",
       "      <td>5*</td>\n",
       "    </tr>\n",
       "    <tr>\n",
       "      <th>8</th>\n",
       "      <td>Kinnaird College For Women Lahore</td>\n",
       "      <td>93- Jail Road, Lahore</td>\n",
       "      <td>FSc Pre Engineering ICS ICS Statistics ICS Phy...</td>\n",
       "      <td>Public</td>\n",
       "      <td>NaN</td>\n",
       "      <td>5*</td>\n",
       "    </tr>\n",
       "    <tr>\n",
       "      <th>9</th>\n",
       "      <td>The Women University Multan</td>\n",
       "      <td>Kutchery Campus, L.M.Q. Road, Multan.</td>\n",
       "      <td>FSc Pre Engineering ICS FSc Pre Medical Genera...</td>\n",
       "      <td>Public</td>\n",
       "      <td>NaN</td>\n",
       "      <td>0*</td>\n",
       "    </tr>\n",
       "  </tbody>\n",
       "</table>\n",
       "</div>"
      ],
      "text/plain": [
       "                                                Name  \\\n",
       "0                                   Campus.pk Lahore   \n",
       "1        Allama Iqbal Open University Aiou Islamabad   \n",
       "2           Government College University Gcu Lahore   \n",
       "3             Govt College University GCU Faisalabad   \n",
       "4  Lahore College For Women University (Lcwu) Lahore   \n",
       "5               University Of Agriculture Faisalabad   \n",
       "6  Pir Mehr Ali Shah Arid Agriculture University ...   \n",
       "7     International Islamic University Iiu Islamabad   \n",
       "8                  Kinnaird College For Women Lahore   \n",
       "9                        The Women University Multan   \n",
       "\n",
       "                                            Location  \\\n",
       "0  Office 206, 2nd Floor Siddique Trade Center Ma...   \n",
       "1                        Sector H-8, Islamabad-44000   \n",
       "2          GC University, Katchery Road Lahore 54000   \n",
       "3                       Kotwali Rd, Faisalabad 38000   \n",
       "4                Near Wapda Flats, Jail Road, Lahore   \n",
       "5  University of Agriculture, Agriculture Univers...   \n",
       "6  PMAS-Arid Agriculture University Rawalpindi, S...   \n",
       "7  International Islamic University Sector H-10, ...   \n",
       "8                              93- Jail Road, Lahore   \n",
       "9              Kutchery Campus, L.M.Q. Road, Multan.   \n",
       "\n",
       "                                       Study Program   Sector Affiliation  \\\n",
       "0                FSc Pre Engineering Fsc Pre Medical  Private         ads   \n",
       "1  FSc Pre Engineering ICs Computer Science FSc P...   Public         NaN   \n",
       "2  FSc Pre Engineering ICS Computer Science FSc P...   Public         HEC   \n",
       "3  FSc Pre-Engineering ICS FSc Pre-Medical Icom F...   Public         HEC   \n",
       "4  FA Arts FSc Pre Engineering ICS Physics ICS St...   Public         NaN   \n",
       "5                                FSc Pre Agriculture   Public         NaN   \n",
       "6                                FSc Pre Agriculture   Public         NaN   \n",
       "7  FSc Pre-Engineering ICS FSc Pre-Medical Icom F...   Public         NaN   \n",
       "8  FSc Pre Engineering ICS ICS Statistics ICS Phy...   Public         NaN   \n",
       "9  FSc Pre Engineering ICS FSc Pre Medical Genera...   Public         NaN   \n",
       "\n",
       "  Rating  \n",
       "0     0*  \n",
       "1     5*  \n",
       "2     4*  \n",
       "3     3*  \n",
       "4     5*  \n",
       "5     5*  \n",
       "6     5*  \n",
       "7     5*  \n",
       "8     5*  \n",
       "9     0*  "
      ]
     },
     "execution_count": 7,
     "metadata": {},
     "output_type": "execute_result"
    }
   ],
   "source": [
    "df.head(10)"
   ]
  },
  {
   "cell_type": "markdown",
   "metadata": {},
   "source": [
    "# **4.7 Let's see the columns names in the dataset**\n",
    "- ### The function print(df.columns.values) provides information about the column names or labels of a DataFrame object"
   ]
  },
  {
   "cell_type": "code",
   "execution_count": 8,
   "metadata": {},
   "outputs": [
    {
     "name": "stdout",
     "output_type": "stream",
     "text": [
      "The name of columns are as follows:['Name' 'Location' 'Study Program' 'Sector' 'Affiliation' 'Rating']\n"
     ]
    }
   ],
   "source": [
    "# View the columns names \n",
    "print(f'The name of columns are as follows:{df.columns.values}')"
   ]
  },
  {
   "cell_type": "markdown",
   "metadata": {},
   "source": [
    "# **4.8 Let's see the shape of the dataset**\n",
    "- The command df.shape is used to extract the number of rows and columns in a DataFrame.\n",
    "- This helps in determining the dimensions of the data."
   ]
  },
  {
   "cell_type": "code",
   "execution_count": 9,
   "metadata": {},
   "outputs": [
    {
     "name": "stdout",
     "output_type": "stream",
     "text": [
      "The Number of Columns are  6\n",
      "The Number of Rows are     1630\n"
     ]
    }
   ],
   "source": [
    "# Find shape\n",
    "print(f\"The Number of Columns are  {df.shape[1]}\") \n",
    "print(f\"The Number of Rows are     {df.shape[0]}\")"
   ]
  },
  {
   "cell_type": "markdown",
   "metadata": {},
   "source": [
    "# Observation Set : 1\n",
    "- There are  6 columns / attributes, and has 1630 rows in the dataset"
   ]
  },
  {
   "cell_type": "markdown",
   "metadata": {},
   "source": [
    "# **4.9 Information of data**\n",
    "- The command , df.info helps in determining number of columns,  memory usage, column data types,column labels, range index, and the number of cells in each column.\n",
    "- This later helps in manipulation of missing values and determination of numerical"
   ]
  },
  {
   "cell_type": "code",
   "execution_count": 10,
   "metadata": {},
   "outputs": [
    {
     "name": "stdout",
     "output_type": "stream",
     "text": [
      "<class 'pandas.core.frame.DataFrame'>\n",
      "RangeIndex: 1630 entries, 0 to 1629\n",
      "Data columns (total 6 columns):\n",
      " #   Column         Non-Null Count  Dtype \n",
      "---  ------         --------------  ----- \n",
      " 0   Name           1630 non-null   object\n",
      " 1   Location       1630 non-null   object\n",
      " 2   Study Program  1630 non-null   object\n",
      " 3   Sector         1101 non-null   object\n",
      " 4   Affiliation    155 non-null    object\n",
      " 5   Rating         1630 non-null   object\n",
      "dtypes: object(6)\n",
      "memory usage: 76.5+ KB\n"
     ]
    }
   ],
   "source": [
    "df.info()"
   ]
  },
  {
   "cell_type": "markdown",
   "metadata": {},
   "source": [
    "# Observation Set : 2\n",
    "\n",
    "As we can see; data has 6 attributes and 1630 rows\n",
    "\n",
    "- All columns in the DataFrame are categorized as `object` type."
   ]
  },
  {
   "cell_type": "markdown",
   "metadata": {},
   "source": [
    "# **4.10 Descriptive Statistics**\n",
    "- The command, df.describe() is used to find the statistics of data\n",
    "- To understand the values, like, count, mean, standard deviation, min, and max values."
   ]
  },
  {
   "cell_type": "code",
   "execution_count": 11,
   "metadata": {},
   "outputs": [
    {
     "data": {
      "text/html": [
       "<div>\n",
       "<style scoped>\n",
       "    .dataframe tbody tr th:only-of-type {\n",
       "        vertical-align: middle;\n",
       "    }\n",
       "\n",
       "    .dataframe tbody tr th {\n",
       "        vertical-align: top;\n",
       "    }\n",
       "\n",
       "    .dataframe thead th {\n",
       "        text-align: right;\n",
       "    }\n",
       "</style>\n",
       "<table border=\"1\" class=\"dataframe\">\n",
       "  <thead>\n",
       "    <tr style=\"text-align: right;\">\n",
       "      <th></th>\n",
       "      <th>Name</th>\n",
       "      <th>Location</th>\n",
       "      <th>Study Program</th>\n",
       "      <th>Sector</th>\n",
       "      <th>Affiliation</th>\n",
       "      <th>Rating</th>\n",
       "    </tr>\n",
       "  </thead>\n",
       "  <tbody>\n",
       "    <tr>\n",
       "      <th>count</th>\n",
       "      <td>1630</td>\n",
       "      <td>1630</td>\n",
       "      <td>1630</td>\n",
       "      <td>1101</td>\n",
       "      <td>155</td>\n",
       "      <td>1630</td>\n",
       "    </tr>\n",
       "    <tr>\n",
       "      <th>unique</th>\n",
       "      <td>1630</td>\n",
       "      <td>1575</td>\n",
       "      <td>774</td>\n",
       "      <td>2</td>\n",
       "      <td>97</td>\n",
       "      <td>21</td>\n",
       "    </tr>\n",
       "    <tr>\n",
       "      <th>top</th>\n",
       "      <td>Campus.pk Lahore</td>\n",
       "      <td>Chakwal</td>\n",
       "      <td>FA ICS Computer Science FSc Pre Medical FSc Pr...</td>\n",
       "      <td>Private</td>\n",
       "      <td>University of Sargodha</td>\n",
       "      <td>0*</td>\n",
       "    </tr>\n",
       "    <tr>\n",
       "      <th>freq</th>\n",
       "      <td>1</td>\n",
       "      <td>11</td>\n",
       "      <td>49</td>\n",
       "      <td>562</td>\n",
       "      <td>7</td>\n",
       "      <td>1119</td>\n",
       "    </tr>\n",
       "  </tbody>\n",
       "</table>\n",
       "</div>"
      ],
      "text/plain": [
       "                    Name Location  \\\n",
       "count               1630     1630   \n",
       "unique              1630     1575   \n",
       "top     Campus.pk Lahore  Chakwal   \n",
       "freq                   1       11   \n",
       "\n",
       "                                            Study Program   Sector  \\\n",
       "count                                                1630     1101   \n",
       "unique                                                774        2   \n",
       "top     FA ICS Computer Science FSc Pre Medical FSc Pr...  Private   \n",
       "freq                                                   49      562   \n",
       "\n",
       "                   Affiliation Rating  \n",
       "count                      155   1630  \n",
       "unique                      97     21  \n",
       "top     University of Sargodha     0*  \n",
       "freq                         7   1119  "
      ]
     },
     "execution_count": 11,
     "metadata": {},
     "output_type": "execute_result"
    }
   ],
   "source": [
    "# summary of statistics \n",
    "df.describe()"
   ]
  },
  {
   "cell_type": "markdown",
   "metadata": {},
   "source": [
    "# **4.11 Let's check Missing values in the data with sorting**\n",
    "- The code, that calculates the number of missing values in each column of a DataFrame (df) and sorts them in descending order."
   ]
  },
  {
   "cell_type": "code",
   "execution_count": 12,
   "metadata": {},
   "outputs": [
    {
     "data": {
      "text/plain": [
       "Affiliation      1475\n",
       "Sector            529\n",
       "Name                0\n",
       "Location            0\n",
       "Study Program       0\n",
       "Rating              0\n",
       "dtype: int64"
      ]
     },
     "execution_count": 12,
     "metadata": {},
     "output_type": "execute_result"
    }
   ],
   "source": [
    "df.isnull().sum().sort_values(ascending=False)"
   ]
  },
  {
   "cell_type": "markdown",
   "metadata": {},
   "source": [
    "# Observation set: 3\n",
    "Among the six columns in the dataset, all of them have missing values top to bottom.\n",
    "\n",
    "1. **Affiliation**:\n",
    "   - There are 1475 missing instances.\n",
    "  \n",
    "   **Recommendation**: The colleges should specify their affiliations clearly. Implementing a mandatory field for affiliations during data collection can ensure this information is always provided.\n",
    "\n",
    "2. **Sector**:\n",
    "   - There are 529 missing instances.\n",
    "\n",
    "   **Recommendation**: The colleges should indicate whether they are public or private. Implementing a mandatory field for sector information during data collection can ensure this information is always provided."
   ]
  },
  {
   "cell_type": "markdown",
   "metadata": {},
   "source": [
    "# 5.0 Missing Values through Visualization\n",
    "## Let's visualize the missing values through ploting"
   ]
  },
  {
   "cell_type": "code",
   "execution_count": 16,
   "metadata": {},
   "outputs": [
    {
     "data": {
      "text/plain": [
       "Text(0.5, 1.0, 'Missing Values')"
      ]
     },
     "execution_count": 16,
     "metadata": {},
     "output_type": "execute_result"
    },
    {
     "data": {
      "image/png": "[encoded data removed]",
      "text/plain": [
       "<Figure size 1600x600 with 1 Axes>"
      ]
     },
     "metadata": {},
     "output_type": "display_data"
    }
   ],
   "source": [
    "import matplotlib\n",
    "matplotlib.rcParams['figure.figsize'] = (16,6) # used for figure size \n",
    "sns.heatmap(df.isnull(), yticklabels = False, cbar= False, cmap='cool')\n",
    "plt.title(\"Missing Values\")"
   ]
  },
  {
   "cell_type": "markdown",
   "metadata": {},
   "source": [
    "> **Figure - 1** : It provides the visual of the missing values of the columns `Sector` and `Affiliation` in the the data"
   ]
  },
  {
   "cell_type": "markdown",
   "metadata": {},
   "source": [
    "# 5.1 Let's see the missing percentage in data\n",
    "- Percentage of data is found out to see that how much of the data comprises of missing values."
   ]
  },
  {
   "cell_type": "code",
   "execution_count": 14,
   "metadata": {},
   "outputs": [
    {
     "data": {
      "text/plain": [
       "Affiliation      90.490798\n",
       "Sector           32.453988\n",
       "Name              0.000000\n",
       "Location          0.000000\n",
       "Study Program     0.000000\n",
       "Rating            0.000000\n",
       "dtype: float64"
      ]
     },
     "execution_count": 14,
     "metadata": {},
     "output_type": "execute_result"
    }
   ],
   "source": [
    "missing_percentage = df.isnull().sum().sort_values(ascending = False)/len(df)*100\n",
    "missing_percentage"
   ]
  },
  {
   "cell_type": "markdown",
   "metadata": {},
   "source": [
    "# 5.2 Let's plot the missing percentage of null values"
   ]
  },
  {
   "cell_type": "code",
   "execution_count": 17,
   "metadata": {},
   "outputs": [
    {
     "data": {
      "text/plain": [
       "(array([  0.,  20.,  40.,  60.,  80., 100.]),\n",
       " [Text(0.0, 0, '0'),\n",
       "  Text(20.0, 0, '20'),\n",
       "  Text(40.0, 0, '40'),\n",
       "  Text(60.0, 0, '60'),\n",
       "  Text(80.0, 0, '80'),\n",
       "  Text(100.0, 0, '100')])"
      ]
     },
     "execution_count": 17,
     "metadata": {},
     "output_type": "execute_result"
    },
    {
     "data": {
      "image/png": "[encoded data removed]",
      "text/plain": [
       "<Figure size 1600x600 with 1 Axes>"
      ]
     },
     "metadata": {},
     "output_type": "display_data"
    }
   ],
   "source": [
    "missing_percentage = missing_percentage[missing_percentage != 0]  # Only the missing data\n",
    "matplotlib.rcParams['figure.figsize'] = (16, 6)\n",
    "\n",
    "# Define colors for the bars\n",
    "colors = ['#316940', '#315c69'] * (len(missing_percentage) // 2 + len(missing_percentage) % 2)\n",
    "colors = colors[:len(missing_percentage)]  # Ensure the color list matches the number of bars\n",
    "\n",
    "# Plot horizontal bar chart with color\n",
    "missing_percentage.plot(kind='barh', color=colors)\n",
    "plt.title(\"Missing percentage of null values\")\n",
    "\n",
    "# Add color to the xticks\n",
    "plt.xticks(color='#313969')"
   ]
  },
  {
   "cell_type": "markdown",
   "metadata": {},
   "source": [
    "**Figure-2**: It is clearly shows in the percentage missing value plot that `Sector` and `Affiliation` have high presence of null values. "
   ]
  },
  {
   "cell_type": "markdown",
   "metadata": {},
   "source": [
    "# Observation set:4\n",
    "\n",
    "Dealing with null values\n",
    "\n",
    "1. The columns having highest percentage of null values are:  \n",
    "   \n",
    "- Sector \n",
    "- Affiliation"
   ]
  },
  {
   "cell_type": "markdown",
   "metadata": {},
   "source": [
    "# 5.3 Let's solution to the missing values"
   ]
  },
  {
   "cell_type": "code",
   "execution_count": 18,
   "metadata": {},
   "outputs": [],
   "source": [
    "# Handle missing values\n",
    "\n",
    "# For 'Sector': Set missing values as 'Unknown'\n",
    "df['Sector'].fillna('Unknown', inplace=True)\n",
    "\n",
    "# For 'Affiliation': Set missing values as 'Unknown'\n",
    "df['Affiliation'].fillna('Unknown', inplace=True)"
   ]
  },
  {
   "cell_type": "markdown",
   "metadata": {},
   "source": [
    "# Observation set : 5\n",
    "Based on our analysis, we have observed that both the **`Sector`** and **`Affiliation`** columns have a high number of missing values. As a data analyst, we recommend the following corrections and insights:\n",
    "\n",
    "- We have four missing values in the column of **`Location`**. We have filled it manually.\n",
    "- We have decided to fill these missing values with **`Unknown`** due to the high percentage of missing values associated with them.\n",
    "- The **`Sector`** column has a missing value percentage of **`32.45%`**, indicating that a significant portion of colleges did not provide information about whether they are public or private.\n",
    "- Conversely, the **`Affiliation`** column has a missing value percentage of **`90.55%`**, suggesting that many colleges did not specify their affiliations.\n",
    "By filling these missing values with **`Unknown`** and acknowledging the missing value percentages, we aim to maintain the quality and reliability of the dataset for further analysis.\n"
   ]
  },
  {
   "cell_type": "code",
   "execution_count": 19,
   "metadata": {},
   "outputs": [
    {
     "data": {
      "text/plain": [
       "Name             0\n",
       "Location         0\n",
       "Study Program    0\n",
       "Sector           0\n",
       "Affiliation      0\n",
       "Rating           0\n",
       "dtype: int64"
      ]
     },
     "execution_count": 19,
     "metadata": {},
     "output_type": "execute_result"
    }
   ],
   "source": [
    "# Let's Check the null values again\n",
    "df.isnull().sum()"
   ]
  },
  {
   "cell_type": "markdown",
   "metadata": {},
   "source": [
    "**Milestone - 1:** \n",
    " \n",
    "- We have cleaned the dataset from Missing values"
   ]
  },
  {
   "cell_type": "markdown",
   "metadata": {},
   "source": [
    "# 6.0 Let's start check the each rows\n",
    "checking any duplicates in the data"
   ]
  },
  {
   "cell_type": "code",
   "execution_count": 20,
   "metadata": {},
   "outputs": [
    {
     "data": {
      "text/plain": [
       "False"
      ]
     },
     "execution_count": 20,
     "metadata": {},
     "output_type": "execute_result"
    }
   ],
   "source": [
    "df.duplicated().any()"
   ]
  },
  {
   "cell_type": "markdown",
   "metadata": {},
   "source": [
    "**Milestone - 2:**\n",
    "Hence, no duplicates found"
   ]
  },
  {
   "cell_type": "markdown",
   "metadata": {},
   "source": [
    "# 6.1  Let's Explore the  Numerical columns "
   ]
  },
  {
   "cell_type": "code",
   "execution_count": 21,
   "metadata": {},
   "outputs": [
    {
     "data": {
      "text/plain": [
       "array(['0*', '5*', '4*', '3*', '2*', '1*', '3.5*', '4.25*', '3.25*',\n",
       "       '4.5*', '3.75*', '1.25*', '0.5*', '2.25*', '4.75*', '1.75*',\n",
       "       '0.25*', '2.5*', '0.75*', '2.75*', '1.5*'], dtype=object)"
      ]
     },
     "execution_count": 21,
     "metadata": {},
     "output_type": "execute_result"
    }
   ],
   "source": [
    "df['Rating'].unique()"
   ]
  },
  {
   "cell_type": "markdown",
   "metadata": {},
   "source": [
    "# Observation set : 6\n",
    "- It is in the object type, we need to change it into the float type"
   ]
  },
  {
   "cell_type": "markdown",
   "metadata": {},
   "source": [
    "# 6.1  Let's do Typecasting \n",
    "- We have to convert / remove string, asterisks symbols and convert it into float"
   ]
  },
  {
   "cell_type": "code",
   "execution_count": 22,
   "metadata": {},
   "outputs": [],
   "source": [
    "df['Rating'] = df['Rating'].str.replace('*', '') # remove the * from the rating\n",
    "df['Rating'] = pd.to_numeric(df['Rating'], errors='coerce') # convert the rating to numeric"
   ]
  },
  {
   "cell_type": "code",
   "execution_count": 23,
   "metadata": {},
   "outputs": [
    {
     "name": "stdout",
     "output_type": "stream",
     "text": [
      "float64\n",
      "[0.   5.   4.   3.   2.   1.   3.5  4.25 3.25 4.5  3.75 1.25 0.5  2.25\n",
      " 4.75 1.75 0.25 2.5  0.75 2.75 1.5 ]\n"
     ]
    }
   ],
   "source": [
    "# Check the data type of the \"Rating\" column\n",
    "print(df['Rating'].dtype)\n",
    "print(df['Rating'].unique())"
   ]
  },
  {
   "cell_type": "markdown",
   "metadata": {},
   "source": [
    "# 6.2 Let's Extract the Region and City names from Name & Location column\n",
    "- We will extract the names of Region and  city for analysis "
   ]
  },
  {
   "cell_type": "code",
   "execution_count": 24,
   "metadata": {},
   "outputs": [],
   "source": [
    "# Extract the city from  Name column\n",
    "def extract_and_remove_last_word(name):\n",
    "    words = name.split()\n",
    "    if len(words) > 1: \n",
    "        city = words[-1]\n",
    "        name = ' '.join(words[:-1])\n",
    "    else:\n",
    "        city = 'Unknown'\n",
    "        name = name  # In case the name has only one word, keep it as is\n",
    "    return name, city\n",
    "\n",
    "# Apply the function to the Name column\n",
    "df[['Name', 'City']] = df['Name'].apply(lambda x: pd.Series(extract_and_remove_last_word(x)))"
   ]
  },
  {
   "cell_type": "code",
   "execution_count": 25,
   "metadata": {},
   "outputs": [
    {
     "data": {
      "text/html": [
       "<div>\n",
       "<style scoped>\n",
       "    .dataframe tbody tr th:only-of-type {\n",
       "        vertical-align: middle;\n",
       "    }\n",
       "\n",
       "    .dataframe tbody tr th {\n",
       "        vertical-align: top;\n",
       "    }\n",
       "\n",
       "    .dataframe thead th {\n",
       "        text-align: right;\n",
       "    }\n",
       "</style>\n",
       "<table border=\"1\" class=\"dataframe\">\n",
       "  <thead>\n",
       "    <tr style=\"text-align: right;\">\n",
       "      <th></th>\n",
       "      <th>Name</th>\n",
       "      <th>Location</th>\n",
       "      <th>Study Program</th>\n",
       "      <th>Sector</th>\n",
       "      <th>Affiliation</th>\n",
       "      <th>Rating</th>\n",
       "      <th>City</th>\n",
       "    </tr>\n",
       "  </thead>\n",
       "  <tbody>\n",
       "    <tr>\n",
       "      <th>0</th>\n",
       "      <td>Campus.pk</td>\n",
       "      <td>Office 206, 2nd Floor Siddique Trade Center Ma...</td>\n",
       "      <td>FSc Pre Engineering Fsc Pre Medical</td>\n",
       "      <td>Private</td>\n",
       "      <td>ads</td>\n",
       "      <td>0.0</td>\n",
       "      <td>Lahore</td>\n",
       "    </tr>\n",
       "    <tr>\n",
       "      <th>1</th>\n",
       "      <td>Allama Iqbal Open University Aiou</td>\n",
       "      <td>Sector H-8, Islamabad-44000</td>\n",
       "      <td>FSc Pre Engineering ICs Computer Science FSc P...</td>\n",
       "      <td>Public</td>\n",
       "      <td>Unknown</td>\n",
       "      <td>5.0</td>\n",
       "      <td>Islamabad</td>\n",
       "    </tr>\n",
       "    <tr>\n",
       "      <th>2</th>\n",
       "      <td>Government College University Gcu</td>\n",
       "      <td>GC University, Katchery Road Lahore 54000</td>\n",
       "      <td>FSc Pre Engineering ICS Computer Science FSc P...</td>\n",
       "      <td>Public</td>\n",
       "      <td>HEC</td>\n",
       "      <td>4.0</td>\n",
       "      <td>Lahore</td>\n",
       "    </tr>\n",
       "    <tr>\n",
       "      <th>3</th>\n",
       "      <td>Govt College University GCU</td>\n",
       "      <td>Kotwali Rd, Faisalabad 38000</td>\n",
       "      <td>FSc Pre-Engineering ICS FSc Pre-Medical Icom F...</td>\n",
       "      <td>Public</td>\n",
       "      <td>HEC</td>\n",
       "      <td>3.0</td>\n",
       "      <td>Faisalabad</td>\n",
       "    </tr>\n",
       "    <tr>\n",
       "      <th>4</th>\n",
       "      <td>Lahore College For Women University (Lcwu)</td>\n",
       "      <td>Near Wapda Flats, Jail Road, Lahore</td>\n",
       "      <td>FA Arts FSc Pre Engineering ICS Physics ICS St...</td>\n",
       "      <td>Public</td>\n",
       "      <td>Unknown</td>\n",
       "      <td>5.0</td>\n",
       "      <td>Lahore</td>\n",
       "    </tr>\n",
       "  </tbody>\n",
       "</table>\n",
       "</div>"
      ],
      "text/plain": [
       "                                         Name  \\\n",
       "0                                   Campus.pk   \n",
       "1           Allama Iqbal Open University Aiou   \n",
       "2           Government College University Gcu   \n",
       "3                 Govt College University GCU   \n",
       "4  Lahore College For Women University (Lcwu)   \n",
       "\n",
       "                                            Location  \\\n",
       "0  Office 206, 2nd Floor Siddique Trade Center Ma...   \n",
       "1                        Sector H-8, Islamabad-44000   \n",
       "2          GC University, Katchery Road Lahore 54000   \n",
       "3                       Kotwali Rd, Faisalabad 38000   \n",
       "4                Near Wapda Flats, Jail Road, Lahore   \n",
       "\n",
       "                                       Study Program   Sector Affiliation  \\\n",
       "0                FSc Pre Engineering Fsc Pre Medical  Private         ads   \n",
       "1  FSc Pre Engineering ICs Computer Science FSc P...   Public     Unknown   \n",
       "2  FSc Pre Engineering ICS Computer Science FSc P...   Public         HEC   \n",
       "3  FSc Pre-Engineering ICS FSc Pre-Medical Icom F...   Public         HEC   \n",
       "4  FA Arts FSc Pre Engineering ICS Physics ICS St...   Public     Unknown   \n",
       "\n",
       "   Rating        City  \n",
       "0     0.0      Lahore  \n",
       "1     5.0   Islamabad  \n",
       "2     4.0      Lahore  \n",
       "3     3.0  Faisalabad  \n",
       "4     5.0      Lahore  "
      ]
     },
     "execution_count": 25,
     "metadata": {},
     "output_type": "execute_result"
    }
   ],
   "source": [
    "df.head()"
   ]
  },
  {
   "cell_type": "code",
   "execution_count": 27,
   "metadata": {},
   "outputs": [
    {
     "data": {
      "text/html": [
       "<div>\n",
       "<style scoped>\n",
       "    .dataframe tbody tr th:only-of-type {\n",
       "        vertical-align: middle;\n",
       "    }\n",
       "\n",
       "    .dataframe tbody tr th {\n",
       "        vertical-align: top;\n",
       "    }\n",
       "\n",
       "    .dataframe thead th {\n",
       "        text-align: right;\n",
       "    }\n",
       "</style>\n",
       "<table border=\"1\" class=\"dataframe\">\n",
       "  <thead>\n",
       "    <tr style=\"text-align: right;\">\n",
       "      <th></th>\n",
       "      <th>Name</th>\n",
       "      <th>Location</th>\n",
       "      <th>Study Program</th>\n",
       "      <th>Sector</th>\n",
       "      <th>Affiliation</th>\n",
       "      <th>Rating</th>\n",
       "      <th>City</th>\n",
       "      <th>Region</th>\n",
       "    </tr>\n",
       "  </thead>\n",
       "  <tbody>\n",
       "    <tr>\n",
       "      <th>0</th>\n",
       "      <td>Campus.pk</td>\n",
       "      <td>Office 206, 2nd Floor Siddique Trade Center Ma...</td>\n",
       "      <td>FSc Pre Engineering Fsc Pre Medical</td>\n",
       "      <td>Private</td>\n",
       "      <td>ads</td>\n",
       "      <td>Very Poor</td>\n",
       "      <td>Lahore</td>\n",
       "      <td>Lahore Division</td>\n",
       "    </tr>\n",
       "    <tr>\n",
       "      <th>1</th>\n",
       "      <td>Allama Iqbal Open University Aiou</td>\n",
       "      <td>Sector H-8, Islamabad-44000</td>\n",
       "      <td>FSc Pre Engineering ICs Computer Science FSc P...</td>\n",
       "      <td>Public</td>\n",
       "      <td>Unknown</td>\n",
       "      <td>NaN</td>\n",
       "      <td>Islamabad</td>\n",
       "      <td>Islamabad Capital Territory</td>\n",
       "    </tr>\n",
       "    <tr>\n",
       "      <th>2</th>\n",
       "      <td>Government College University Gcu</td>\n",
       "      <td>GC University, Katchery Road Lahore 54000</td>\n",
       "      <td>FSc Pre Engineering ICS Computer Science FSc P...</td>\n",
       "      <td>Public</td>\n",
       "      <td>HEC</td>\n",
       "      <td>Excellent</td>\n",
       "      <td>Lahore</td>\n",
       "      <td>Lahore Division</td>\n",
       "    </tr>\n",
       "    <tr>\n",
       "      <th>3</th>\n",
       "      <td>Govt College University GCU</td>\n",
       "      <td>Kotwali Rd, Faisalabad 38000</td>\n",
       "      <td>FSc Pre-Engineering ICS FSc Pre-Medical Icom F...</td>\n",
       "      <td>Public</td>\n",
       "      <td>HEC</td>\n",
       "      <td>Good</td>\n",
       "      <td>Faisalabad</td>\n",
       "      <td>Faisalabad Division</td>\n",
       "    </tr>\n",
       "    <tr>\n",
       "      <th>4</th>\n",
       "      <td>Lahore College For Women University (Lcwu)</td>\n",
       "      <td>Near Wapda Flats, Jail Road, Lahore</td>\n",
       "      <td>FA Arts FSc Pre Engineering ICS Physics ICS St...</td>\n",
       "      <td>Public</td>\n",
       "      <td>Unknown</td>\n",
       "      <td>NaN</td>\n",
       "      <td>Lahore</td>\n",
       "      <td>Lahore Division</td>\n",
       "    </tr>\n",
       "  </tbody>\n",
       "</table>\n",
       "</div>"
      ],
      "text/plain": [
       "                                         Name  \\\n",
       "0                                   Campus.pk   \n",
       "1           Allama Iqbal Open University Aiou   \n",
       "2           Government College University Gcu   \n",
       "3                 Govt College University GCU   \n",
       "4  Lahore College For Women University (Lcwu)   \n",
       "\n",
       "                                            Location  \\\n",
       "0  Office 206, 2nd Floor Siddique Trade Center Ma...   \n",
       "1                        Sector H-8, Islamabad-44000   \n",
       "2          GC University, Katchery Road Lahore 54000   \n",
       "3                       Kotwali Rd, Faisalabad 38000   \n",
       "4                Near Wapda Flats, Jail Road, Lahore   \n",
       "\n",
       "                                       Study Program   Sector Affiliation  \\\n",
       "0                FSc Pre Engineering Fsc Pre Medical  Private         ads   \n",
       "1  FSc Pre Engineering ICs Computer Science FSc P...   Public     Unknown   \n",
       "2  FSc Pre Engineering ICS Computer Science FSc P...   Public         HEC   \n",
       "3  FSc Pre-Engineering ICS FSc Pre-Medical Icom F...   Public         HEC   \n",
       "4  FA Arts FSc Pre Engineering ICS Physics ICS St...   Public     Unknown   \n",
       "\n",
       "      Rating        City                       Region  \n",
       "0  Very Poor      Lahore              Lahore Division  \n",
       "1        NaN   Islamabad  Islamabad Capital Territory  \n",
       "2  Excellent      Lahore              Lahore Division  \n",
       "3       Good  Faisalabad          Faisalabad Division  \n",
       "4        NaN      Lahore              Lahore Division  "
      ]
     },
     "execution_count": 27,
     "metadata": {},
     "output_type": "execute_result"
    }
   ],
   "source": [
    "\n",
    "# City-Region mapping dictionary with multiple cities mapping to their respective regions\n",
    "city_region_mapping = {'Kasur': 'Lahore Division','Lahore': 'Lahore Division','Sheikhupura': 'Lahore Division','Nankana Sahib': 'Lahore Division','Islamabad': 'Islamabad Capital Territory',\n",
    "    'Rawalpindi': 'Rawalpindi Division','Sialkot': 'Gujranwala Division','Gujrat': 'Gujranwala Division','Bhakkar': 'Sargodha Division','Mianwali': 'Sargodha Division',\n",
    "    'Bahawalpur': 'Bahawalpur Division','Bahawalnagar': 'Bahawalpur Division','Rahim Yar Khan': 'Bahawalpur Division','Multan': 'Multan Division','Karachi': 'Karachi Division',\n",
    "    'Peshawar': 'Peshawar Division','Quetta': 'Quetta Division','Faisalabad': 'Faisalabad Division','Gujranwala': 'Gujranwala Division','Sialkot': 'Sialkot Division',\n",
    "    'Sargodha': 'Sargodha Division','Sahiwal': 'Sahiwal Division','Mirpur': 'Mirpur Division','Muzaffarabad': 'Muzaffarabad Division','Gilgit': 'Gilgit Division',\n",
    "    'Skardu': 'Skardu Division','Dera Ghazi Khan': 'Dera Ghazi Khan Division','Kohat': 'Peshawar Division','Mardan': 'Peshawar Division','Sukkur': 'Sukkur Division',\n",
    "    'Larkana': 'Larkana Division','Nawabshah': 'Hyderabad Division','Hyderabad': 'Hyderabad Division','Khairpur': 'Sukkur Division','Jacobabad': 'Larkana Division',}\n",
    "\n",
    "# Use replace method to map City to Region\n",
    "df['Region'] = df['City'].replace(city_region_mapping)\n",
    "\n",
    "# Fill 'Unknown' for cities not in the dictionary\n",
    "df['Region'] = df['Region'].fillna('Unknown')\n",
    "\n",
    "# Function to map city to region\n",
    "def map_city_to_region(city):\n",
    "    return city_region_mapping.get(city, 'Unknown')  # Default to 'Unknown' if city is not in the dictionary\n",
    "\n",
    "# Apply the mapping function to create the Region column\n",
    "df['Region'] = df['City'].apply(map_city_to_region)\n",
    "\n",
    "# Display the df\n",
    "df.head()"
   ]
  },
  {
   "cell_type": "code",
   "execution_count": 28,
   "metadata": {},
   "outputs": [
    {
     "data": {
      "text/plain": [
       "City\n",
       "Lahore               227\n",
       "Rawalpindi           127\n",
       "Islamabad            127\n",
       "Karachi              120\n",
       "Faisalabad            93\n",
       "Peshawar              86\n",
       "Sargodha              66\n",
       "Gujranwala            61\n",
       "Multan                46\n",
       "Bahawalpur            38\n",
       "Gujrat                37\n",
       "Sialkot               29\n",
       "Abbottabad            28\n",
       "Bhakkar               27\n",
       "Attock                26\n",
       "Bahawalnagar          23\n",
       "Jhang                 23\n",
       "Kohat                 22\n",
       "Kasur                 19\n",
       "Chakwal               18\n",
       "Dera Ghazi Khan       17\n",
       "Khanewal              17\n",
       "Sahiwal               16\n",
       "Jhelum                16\n",
       "Sheikhupura           15\n",
       "Quetta                15\n",
       "Khushab               14\n",
       "Bannu                 13\n",
       "Okara                 12\n",
       "Hafizabad             12\n",
       "Hyderabad             11\n",
       "Bhimber               11\n",
       "Chiniot               11\n",
       "Rahim Yar Khan        10\n",
       "Mardan                10\n",
       "Pakpattan              9\n",
       "Dera Ismail Khan       7\n",
       "Mirpur                 6\n",
       "Mianwali               6\n",
       "Wazirabad              6\n",
       "Mandi Bahauddin        5\n",
       "Toba Tek Singh         5\n",
       "Swat                   5\n",
       "Pattoki                4\n",
       "Badin                  4\n",
       "Bagh                   4\n",
       "Nankana Sahib          4\n",
       "Vehari                 4\n",
       "Malakand               4\n",
       "Nowshera               4\n",
       "AJK                    4\n",
       "Mansehra               4\n",
       "Kashmir                4\n",
       "Lodhran                3\n",
       "Charsadda              3\n",
       "Chitral                3\n",
       "Pasrur                 3\n",
       "Narowal                3\n",
       "Murree                 3\n",
       "Sukkur                 3\n",
       "Swabi                  3\n",
       "Kharian                3\n",
       "Larkana                2\n",
       "Haripur                2\n",
       "Sambrial               2\n",
       "Jang                   2\n",
       "Shiekhupura            2\n",
       "Layyah                 2\n",
       "Chenab Nagar           2\n",
       "Sharaqpur              2\n",
       "Phalia                 2\n",
       "Chishtian              2\n",
       "Burewala               2\n",
       "Khanpur                2\n",
       "Bhurban                1\n",
       "Mandra                 1\n",
       "Uch Sharif             1\n",
       "Gujar Khan             1\n",
       "Zafarwal               1\n",
       "Taxila                 1\n",
       "Kallar Saydan          1\n",
       "Sadiqabad              1\n",
       "Jehlum                 1\n",
       "Haroonabad             1\n",
       "Jand                   1\n",
       " Mandi Bahaudddin      1\n",
       "Kotli                  1\n",
       "Lakki Marwat           1\n",
       "Shorkot                1\n",
       "Rawlakot               1\n",
       "Balakot                1\n",
       "Karak                  1\n",
       "Killa Saifullah        1\n",
       "Kamoki                 1\n",
       "shiekhupura            1\n",
       "Muzaffargarh           1\n",
       "Mailsi                 1\n",
       "Bhera                  1\n",
       "Jauharabad             1\n",
       "Raiwind                1\n",
       "Abbotabad              1\n",
       "Mian Channu            1\n",
       "sargodha               1\n",
       "Jalalpur Jattan        1\n",
       "Rawalkot               1\n",
       "Palandari              1\n",
       "Kamoke                 1\n",
       "Lasbela                1\n",
       "Gojra                  1\n",
       "Kot Addu               1\n",
       "Shakargarh             1\n",
       "Pind Dadan Khan        1\n",
       "Jajja                  1\n",
       "Battagram              1\n",
       "Samundri               1\n",
       "Jaranwala              1\n",
       "Liaqatpur              1\n",
       "Sailkot                1\n",
       "Naushahro Feroze       1\n",
       "Bahawalpur             1\n",
       "Name: count, dtype: int64"
      ]
     },
     "execution_count": 28,
     "metadata": {},
     "output_type": "execute_result"
    }
   ],
   "source": [
    "# let's city value counts\n",
    "df['City'].value_counts()                                         "
   ]
  },
  {
   "cell_type": "markdown",
   "metadata": {},
   "source": [
    "# Observation Set: 7\n",
    "Based on our data transformation process, we have made the following observations:\n",
    "\n",
    "- We have successfully removed the asterisk (*) from the `Rating` column to ensure consistency and accuracy in the data.\n",
    "- We have converted the `Rating` column to numeric (float) values to facilitate quantitative analysis.\n",
    "- We have extracted `Region` from the `Location` column by splitting the string at the comma.\n",
    "- We have added a new column `Region` to the DataFrame containing the extracted city names.\n",
    "- We have extracted `City` from the `Location` column by splitting the string at the comma.\n",
    "- We have added a new column `City` to the DataFrame containing the extracted city names.\n",
    "\n",
    "These transformations enhance the dataset's quality by ensuring that the columns are properly formatted and ready for further analysis.\n",
    "  \n"
   ]
  },
  {
   "cell_type": "markdown",
   "metadata": {},
   "source": [
    "# 7.0 Questions and Answers: \n",
    "- We are going to write following questions against the dataset: \n",
    "1. What is the distribution of colleges by sector (Public vs. Private)?\n",
    "2. What are the top 10 cities by the number of colleges?\n",
    "3. What is the Percentage of the Colleges by Regions?\n",
    "4. What is the Distribution of Colleges by Region, City, and Sector?\n",
    "5. What is the sector distribution by city?\n",
    "6. What is the sector distribution by Region?\n",
    "7. What are the rating distribution by the Region? \n",
    "8. What is the average Rating of sectors?\n",
    "9. What are the Top 10 Most Frequent Study Programs? \n",
    "10. What are the Top 10 cities by count of study Programs ?\n"
   ]
  },
  {
   "cell_type": "markdown",
   "metadata": {},
   "source": [
    "### Q-1: What is the distribution of colleges by sector (Public vs. Private)?"
   ]
  },
  {
   "cell_type": "code",
   "execution_count": 79,
   "metadata": {},
   "outputs": [
    {
     "data": {
      "image/png": "[encoded data removed]",
      "text/plain": [
       "<Figure size 1200x600 with 1 Axes>"
      ]
     },
     "metadata": {},
     "output_type": "display_data"
    }
   ],
   "source": [
    "plt.figure(figsize=(12, 6)) # Set the figure size\n",
    "sns.countplot(x='Sector', data=df, palette='viridis') # Countplot of Sector\n",
    "plt.title('Count of Colleges by Sector') # Title of the plot\n",
    "plt.xlabel('Sector') \n",
    "plt.ylabel('Number of Colleges')\n",
    "plt.show()"
   ]
  },
  {
   "cell_type": "markdown",
   "metadata": {},
   "source": [
    "**Figure-3** Shows about`Private`, `Public` and `Unknown` count of colleges by `Sector`.\n",
    "\n",
    "**Answer**: The count plot shows that there are more `Private` colleges than `Public` colleges in the dataset"
   ]
  },
  {
   "cell_type": "markdown",
   "metadata": {},
   "source": [
    "### Q 2: What are the top 10 cities by the number of colleges?"
   ]
  },
  {
   "cell_type": "code",
   "execution_count": 78,
   "metadata": {},
   "outputs": [
    {
     "data": {
      "image/png": "[encoded data removed]",
      "text/plain": [
       "<Figure size 1600x600 with 1 Axes>"
      ]
     },
     "metadata": {},
     "output_type": "display_data"
    }
   ],
   "source": [
    "top_10_cities = df['City'].value_counts().nlargest(10).reset_index()\n",
    "top_10_cities.columns = ['City', 'Number of Colleges']\n",
    "\n",
    "plt.figure(figsize=(16, 6))\n",
    "sns.barplot(x='City', y='Number of Colleges', data=top_10_cities, palette='viridis')\n",
    "plt.title('Top 10 Cities by Number of Colleges')\n",
    "plt.xticks(rotation=45)\n",
    "plt.xlabel('City')\n",
    "plt.ylabel('Number of Colleges')\n",
    "plt.show()\n"
   ]
  },
  {
   "cell_type": "markdown",
   "metadata": {},
   "source": [
    "**Figure-4** Shows Bar plot of the top 10 cities by the number of colleges.\n",
    "\n",
    "**Answer**: The Barplot shows that among the top 10 Cities are **`Lahore`**, **`Rawalpindi`**, **`Islamabad`**, **`Karachi`**, **`Faisalabad`**, **`Peshawar`**, **`Sargodha`**, **`Gujranwala`**, **`Multan`** and **`Bahawalpur`** colleges in the dataset"
   ]
  },
  {
   "cell_type": "markdown",
   "metadata": {},
   "source": [
    "### Q 3 : What is the Percentage of the Colleges by Regions?"
   ]
  },
  {
   "cell_type": "code",
   "execution_count": 96,
   "metadata": {},
   "outputs": [
    {
     "data": {
      "application/vnd.plotly.v1+json": {
       "config": {
        "plotlyServerURL": "https://plot.ly"
       },
       "data": [
        {
         "domain": {
          "x": [
           0,
           1
          ],
          "y": [
           0,
           1
          ]
         },
         "hovertemplate": "Region=%{label}<br>Counts=%{value}<extra></extra>",
         "labels": [
          "Unknown",
          "Lahore Division",
          "Rawalpindi Division",
          "Islamabad Capital Territory",
          "Karachi Division",
          "Peshawar Division",
          "Sargodha Division",
          "Gujranwala Division",
          "Faisalabad Division",
          "Bahawalpur Division",
          "Multan Division",
          "Sialkot Division",
          "Dera Ghazi Khan Division",
          "Sahiwal Division",
          "Quetta Division",
          "Hyderabad Division",
          "Mirpur Division",
          "Sukkur Division",
          "Larkana Division"
         ],
         "legendgroup": "",
         "name": "",
         "showlegend": true,
         "type": "pie",
         "values": [
          366,
          265,
          127,
          127,
          120,
          118,
          99,
          98,
          93,
          71,
          46,
          29,
          17,
          16,
          15,
          11,
          6,
          3,
          2
         ]
        }
       ],
       "layout": {
        "legend": {
         "tracegroupgap": 0
        },
        "piecolorway": [
         "#000004",
         "#1b0c41",
         "#4a0c6b",
         "#781c6d",
         "#a52c60",
         "#cf4446",
         "#ed6925",
         "#fb9b06",
         "#f7d13d",
         "#fcffa4"
        ],
        "template": {
         "data": {
          "bar": [
           {
            "error_x": {
             "color": "#2a3f5f"
            },
            "error_y": {
             "color": "#2a3f5f"
            },
            "marker": {
             "line": {
              "color": "#E5ECF6",
              "width": 0.5
             },
             "pattern": {
              "fillmode": "overlay",
              "size": 10,
              "solidity": 0.2
             }
            },
            "type": "bar"
           }
          ],
          "barpolar": [
           {
            "marker": {
             "line": {
              "color": "#E5ECF6",
              "width": 0.5
             },
             "pattern": {
              "fillmode": "overlay",
              "size": 10,
              "solidity": 0.2
             }
            },
            "type": "barpolar"
           }
          ],
          "carpet": [
           {
            "aaxis": {
             "endlinecolor": "#2a3f5f",
             "gridcolor": "white",
             "linecolor": "white",
             "minorgridcolor": "white",
             "startlinecolor": "#2a3f5f"
            },
            "baxis": {
             "endlinecolor": "#2a3f5f",
             "gridcolor": "white",
             "linecolor": "white",
             "minorgridcolor": "white",
             "startlinecolor": "#2a3f5f"
            },
            "type": "carpet"
           }
          ],
          "choropleth": [
           {
            "colorbar": {
             "outlinewidth": 0,
             "ticks": ""
            },
            "type": "choropleth"
           }
          ],
          "contour": [
           {
            "colorbar": {
             "outlinewidth": 0,
             "ticks": ""
            },
            "colorscale": [
             [
              0,
              "#0d0887"
             ],
             [
              0.1111111111111111,
              "#46039f"
             ],
             [
              0.2222222222222222,
              "#7201a8"
             ],
             [
              0.3333333333333333,
              "#9c179e"
             ],
             [
              0.4444444444444444,
              "#bd3786"
             ],
             [
              0.5555555555555556,
              "#d8576b"
             ],
             [
              0.6666666666666666,
              "#ed7953"
             ],
             [
              0.7777777777777778,
              "#fb9f3a"
             ],
             [
              0.8888888888888888,
              "#fdca26"
             ],
             [
              1,
              "#f0f921"
             ]
            ],
            "type": "contour"
           }
          ],
          "contourcarpet": [
           {
            "colorbar": {
             "outlinewidth": 0,
             "ticks": ""
            },
            "type": "contourcarpet"
           }
          ],
          "heatmap": [
           {
            "colorbar": {
             "outlinewidth": 0,
             "ticks": ""
            },
            "colorscale": [
             [
              0,
              "#0d0887"
             ],
             [
              0.1111111111111111,
              "#46039f"
             ],
             [
              0.2222222222222222,
              "#7201a8"
             ],
             [
              0.3333333333333333,
              "#9c179e"
             ],
             [
              0.4444444444444444,
              "#bd3786"
             ],
             [
              0.5555555555555556,
              "#d8576b"
             ],
             [
              0.6666666666666666,
              "#ed7953"
             ],
             [
              0.7777777777777778,
              "#fb9f3a"
             ],
             [
              0.8888888888888888,
              "#fdca26"
             ],
             [
              1,
              "#f0f921"
             ]
            ],
            "type": "heatmap"
           }
          ],
          "heatmapgl": [
           {
            "colorbar": {
             "outlinewidth": 0,
             "ticks": ""
            },
            "colorscale": [
             [
              0,
              "#0d0887"
             ],
             [
              0.1111111111111111,
              "#46039f"
             ],
             [
              0.2222222222222222,
              "#7201a8"
             ],
             [
              0.3333333333333333,
              "#9c179e"
             ],
             [
              0.4444444444444444,
              "#bd3786"
             ],
             [
              0.5555555555555556,
              "#d8576b"
             ],
             [
              0.6666666666666666,
              "#ed7953"
             ],
             [
              0.7777777777777778,
              "#fb9f3a"
             ],
             [
              0.8888888888888888,
              "#fdca26"
             ],
             [
              1,
              "#f0f921"
             ]
            ],
            "type": "heatmapgl"
           }
          ],
          "histogram": [
           {
            "marker": {
             "pattern": {
              "fillmode": "overlay",
              "size": 10,
              "solidity": 0.2
             }
            },
            "type": "histogram"
           }
          ],
          "histogram2d": [
           {
            "colorbar": {
             "outlinewidth": 0,
             "ticks": ""
            },
            "colorscale": [
             [
              0,
              "#0d0887"
             ],
             [
              0.1111111111111111,
              "#46039f"
             ],
             [
              0.2222222222222222,
              "#7201a8"
             ],
             [
              0.3333333333333333,
              "#9c179e"
             ],
             [
              0.4444444444444444,
              "#bd3786"
             ],
             [
              0.5555555555555556,
              "#d8576b"
             ],
             [
              0.6666666666666666,
              "#ed7953"
             ],
             [
              0.7777777777777778,
              "#fb9f3a"
             ],
             [
              0.8888888888888888,
              "#fdca26"
             ],
             [
              1,
              "#f0f921"
             ]
            ],
            "type": "histogram2d"
           }
          ],
          "histogram2dcontour": [
           {
            "colorbar": {
             "outlinewidth": 0,
             "ticks": ""
            },
            "colorscale": [
             [
              0,
              "#0d0887"
             ],
             [
              0.1111111111111111,
              "#46039f"
             ],
             [
              0.2222222222222222,
              "#7201a8"
             ],
             [
              0.3333333333333333,
              "#9c179e"
             ],
             [
              0.4444444444444444,
              "#bd3786"
             ],
             [
              0.5555555555555556,
              "#d8576b"
             ],
             [
              0.6666666666666666,
              "#ed7953"
             ],
             [
              0.7777777777777778,
              "#fb9f3a"
             ],
             [
              0.8888888888888888,
              "#fdca26"
             ],
             [
              1,
              "#f0f921"
             ]
            ],
            "type": "histogram2dcontour"
           }
          ],
          "mesh3d": [
           {
            "colorbar": {
             "outlinewidth": 0,
             "ticks": ""
            },
            "type": "mesh3d"
           }
          ],
          "parcoords": [
           {
            "line": {
             "colorbar": {
              "outlinewidth": 0,
              "ticks": ""
             }
            },
            "type": "parcoords"
           }
          ],
          "pie": [
           {
            "automargin": true,
            "type": "pie"
           }
          ],
          "scatter": [
           {
            "fillpattern": {
             "fillmode": "overlay",
             "size": 10,
             "solidity": 0.2
            },
            "type": "scatter"
           }
          ],
          "scatter3d": [
           {
            "line": {
             "colorbar": {
              "outlinewidth": 0,
              "ticks": ""
             }
            },
            "marker": {
             "colorbar": {
              "outlinewidth": 0,
              "ticks": ""
             }
            },
            "type": "scatter3d"
           }
          ],
          "scattercarpet": [
           {
            "marker": {
             "colorbar": {
              "outlinewidth": 0,
              "ticks": ""
             }
            },
            "type": "scattercarpet"
           }
          ],
          "scattergeo": [
           {
            "marker": {
             "colorbar": {
              "outlinewidth": 0,
              "ticks": ""
             }
            },
            "type": "scattergeo"
           }
          ],
          "scattergl": [
           {
            "marker": {
             "colorbar": {
              "outlinewidth": 0,
              "ticks": ""
             }
            },
            "type": "scattergl"
           }
          ],
          "scattermapbox": [
           {
            "marker": {
             "colorbar": {
              "outlinewidth": 0,
              "ticks": ""
             }
            },
            "type": "scattermapbox"
           }
          ],
          "scatterpolar": [
           {
            "marker": {
             "colorbar": {
              "outlinewidth": 0,
              "ticks": ""
             }
            },
            "type": "scatterpolar"
           }
          ],
          "scatterpolargl": [
           {
            "marker": {
             "colorbar": {
              "outlinewidth": 0,
              "ticks": ""
             }
            },
            "type": "scatterpolargl"
           }
          ],
          "scatterternary": [
           {
            "marker": {
             "colorbar": {
              "outlinewidth": 0,
              "ticks": ""
             }
            },
            "type": "scatterternary"
           }
          ],
          "surface": [
           {
            "colorbar": {
             "outlinewidth": 0,
             "ticks": ""
            },
            "colorscale": [
             [
              0,
              "#0d0887"
             ],
             [
              0.1111111111111111,
              "#46039f"
             ],
             [
              0.2222222222222222,
              "#7201a8"
             ],
             [
              0.3333333333333333,
              "#9c179e"
             ],
             [
              0.4444444444444444,
              "#bd3786"
             ],
             [
              0.5555555555555556,
              "#d8576b"
             ],
             [
              0.6666666666666666,
              "#ed7953"
             ],
             [
              0.7777777777777778,
              "#fb9f3a"
             ],
             [
              0.8888888888888888,
              "#fdca26"
             ],
             [
              1,
              "#f0f921"
             ]
            ],
            "type": "surface"
           }
          ],
          "table": [
           {
            "cells": {
             "fill": {
              "color": "#EBF0F8"
             },
             "line": {
              "color": "white"
             }
            },
            "header": {
             "fill": {
              "color": "#C8D4E3"
             },
             "line": {
              "color": "white"
             }
            },
            "type": "table"
           }
          ]
         },
         "layout": {
          "annotationdefaults": {
           "arrowcolor": "#2a3f5f",
           "arrowhead": 0,
           "arrowwidth": 1
          },
          "autotypenumbers": "strict",
          "coloraxis": {
           "colorbar": {
            "outlinewidth": 0,
            "ticks": ""
           }
          },
          "colorscale": {
           "diverging": [
            [
             0,
             "#8e0152"
            ],
            [
             0.1,
             "#c51b7d"
            ],
            [
             0.2,
             "#de77ae"
            ],
            [
             0.3,
             "#f1b6da"
            ],
            [
             0.4,
             "#fde0ef"
            ],
            [
             0.5,
             "#f7f7f7"
            ],
            [
             0.6,
             "#e6f5d0"
            ],
            [
             0.7,
             "#b8e186"
            ],
            [
             0.8,
             "#7fbc41"
            ],
            [
             0.9,
             "#4d9221"
            ],
            [
             1,
             "#276419"
            ]
           ],
           "sequential": [
            [
             0,
             "#0d0887"
            ],
            [
             0.1111111111111111,
             "#46039f"
            ],
            [
             0.2222222222222222,
             "#7201a8"
            ],
            [
             0.3333333333333333,
             "#9c179e"
            ],
            [
             0.4444444444444444,
             "#bd3786"
            ],
            [
             0.5555555555555556,
             "#d8576b"
            ],
            [
             0.6666666666666666,
             "#ed7953"
            ],
            [
             0.7777777777777778,
             "#fb9f3a"
            ],
            [
             0.8888888888888888,
             "#fdca26"
            ],
            [
             1,
             "#f0f921"
            ]
           ],
           "sequentialminus": [
            [
             0,
             "#0d0887"
            ],
            [
             0.1111111111111111,
             "#46039f"
            ],
            [
             0.2222222222222222,
             "#7201a8"
            ],
            [
             0.3333333333333333,
             "#9c179e"
            ],
            [
             0.4444444444444444,
             "#bd3786"
            ],
            [
             0.5555555555555556,
             "#d8576b"
            ],
            [
             0.6666666666666666,
             "#ed7953"
            ],
            [
             0.7777777777777778,
             "#fb9f3a"
            ],
            [
             0.8888888888888888,
             "#fdca26"
            ],
            [
             1,
             "#f0f921"
            ]
           ]
          },
          "colorway": [
           "#636efa",
           "#EF553B",
           "#00cc96",
           "#ab63fa",
           "#FFA15A",
           "#19d3f3",
           "#FF6692",
           "#B6E880",
           "#FF97FF",
           "#FECB52"
          ],
          "font": {
           "color": "#2a3f5f"
          },
          "geo": {
           "bgcolor": "white",
           "lakecolor": "white",
           "landcolor": "#E5ECF6",
           "showlakes": true,
           "showland": true,
           "subunitcolor": "white"
          },
          "hoverlabel": {
           "align": "left"
          },
          "hovermode": "closest",
          "mapbox": {
           "style": "light"
          },
          "paper_bgcolor": "white",
          "plot_bgcolor": "#E5ECF6",
          "polar": {
           "angularaxis": {
            "gridcolor": "white",
            "linecolor": "white",
            "ticks": ""
           },
           "bgcolor": "#E5ECF6",
           "radialaxis": {
            "gridcolor": "white",
            "linecolor": "white",
            "ticks": ""
           }
          },
          "scene": {
           "xaxis": {
            "backgroundcolor": "#E5ECF6",
            "gridcolor": "white",
            "gridwidth": 2,
            "linecolor": "white",
            "showbackground": true,
            "ticks": "",
            "zerolinecolor": "white"
           },
           "yaxis": {
            "backgroundcolor": "#E5ECF6",
            "gridcolor": "white",
            "gridwidth": 2,
            "linecolor": "white",
            "showbackground": true,
            "ticks": "",
            "zerolinecolor": "white"
           },
           "zaxis": {
            "backgroundcolor": "#E5ECF6",
            "gridcolor": "white",
            "gridwidth": 2,
            "linecolor": "white",
            "showbackground": true,
            "ticks": "",
            "zerolinecolor": "white"
           }
          },
          "shapedefaults": {
           "line": {
            "color": "#2a3f5f"
           }
          },
          "ternary": {
           "aaxis": {
            "gridcolor": "white",
            "linecolor": "white",
            "ticks": ""
           },
           "baxis": {
            "gridcolor": "white",
            "linecolor": "white",
            "ticks": ""
           },
           "bgcolor": "#E5ECF6",
           "caxis": {
            "gridcolor": "white",
            "linecolor": "white",
            "ticks": ""
           }
          },
          "title": {
           "x": 0.05
          },
          "xaxis": {
           "automargin": true,
           "gridcolor": "white",
           "linecolor": "white",
           "ticks": "",
           "title": {
            "standoff": 15
           },
           "zerolinecolor": "white",
           "zerolinewidth": 2
          },
          "yaxis": {
           "automargin": true,
           "gridcolor": "white",
           "linecolor": "white",
           "ticks": "",
           "title": {
            "standoff": 15
           },
           "zerolinecolor": "white",
           "zerolinewidth": 2
          }
         }
        },
        "title": {
         "text": "Percentage of Colleges by Region"
        }
       }
      }
     },
     "metadata": {},
     "output_type": "display_data"
    }
   ],
   "source": [
    "# Assuming 'df' is your DataFrame and 'Region' is a column in it\n",
    "region_counts = df['Region'].value_counts().reset_index()\n",
    "region_counts.columns = ['Region', 'Counts']\n",
    "\n",
    "# Create a pie chart with Plotly\n",
    "fig = px.pie(region_counts, values='Counts', names='Region', title='Percentage of Colleges by Region', color_discrete_sequence=px.colors.sequential.Inferno)\n",
    "\n",
    "# Show the plot\n",
    "fig.show()\n"
   ]
  },
  {
   "cell_type": "markdown",
   "metadata": {},
   "source": [
    "**Figure-5**: Pie chart showing the percentage of colleges by region.\n",
    "\n",
    "**Answer**: The pie chart illustrates the distribution of colleges across different regions. The chart clearly shows the proportion of colleges in each region, highlighting the regions with the most and least number of colleges. This visualization helps in understanding the regional concentration of educational institutions, which can be important for policy-making, resource allocation, and identifying areas needing educational development."
   ]
  },
  {
   "cell_type": "markdown",
   "metadata": {},
   "source": [
    "### Q 4: What is the Distribution of Colleges by Region, City, and Sector?"
   ]
  },
  {
   "cell_type": "code",
   "execution_count": 95,
   "metadata": {},
   "outputs": [
    {
     "data": {
      "application/vnd.plotly.v1+json": {
       "config": {
        "plotlyServerURL": "https://plot.ly"
       },
       "data": [
        {
         "branchvalues": "total",
         "domain": {
          "x": [
           0,
           1
          ],
          "y": [
           0,
           1
          ]
         },
         "hovertemplate": "labels=%{label}<br>count=%{value}<br>parent=%{parent}<br>id=%{id}<extra></extra>",
         "ids": [
          "Unknown/AJK/Private",
          "Unknown/Abbotabad/Private",
          "Unknown/Abbottabad/Private",
          "Unknown/Attock/Private",
          "Bahawalpur Division/Bahawalnagar/Private",
          "Bahawalpur Division/Bahawalpur/Private",
          "Unknown/Bannu/Private",
          "Unknown/Battagram/Private",
          "Sargodha Division/Bhakkar/Private",
          "Unknown/Bhimber/Private",
          "Unknown/Bhurban/Private",
          "Unknown/Burewala/Private",
          "Unknown/Chakwal/Private",
          "Unknown/Charsadda/Private",
          "Unknown/Chiniot/Private",
          "Unknown/Chishtian/Private",
          "Unknown/Chitral/Private",
          "Dera Ghazi Khan Division/Dera Ghazi Khan/Private",
          "Unknown/Dera Ismail Khan/Private",
          "Faisalabad Division/Faisalabad/Private",
          "Unknown/Gojra/Private",
          "Unknown/Gujar Khan/Private",
          "Gujranwala Division/Gujranwala/Private",
          "Gujranwala Division/Gujrat/Private",
          "Unknown/Hafizabad/Private",
          "Unknown/Haripur/Private",
          "Unknown/Haroonabad/Private",
          "Hyderabad Division/Hyderabad/Private",
          "Islamabad Capital Territory/Islamabad/Private",
          "Unknown/Jalalpur Jattan/Private",
          "Unknown/Jang/Private",
          "Unknown/Jaranwala/Private",
          "Unknown/Jauharabad/Private",
          "Unknown/Jehlum/Private",
          "Unknown/Jhang/Private",
          "Unknown/Jhelum/Private",
          "Unknown/Kallar Saydan/Private",
          "Unknown/Kamoke/Private",
          "Unknown/Kamoki/Private",
          "Karachi Division/Karachi/Private",
          "Unknown/Karak/Private",
          "Lahore Division/Kasur/Private",
          "Unknown/Khanewal/Private",
          "Unknown/Khanpur/Private",
          "Unknown/Kharian/Private",
          "Unknown/Killa Saifullah/Private",
          "Peshawar Division/Kohat/Private",
          "Unknown/Kot Addu/Private",
          "Unknown/Kotli/Private",
          "Lahore Division/Lahore/Private",
          "Unknown/Layyah/Private",
          "Unknown/Liaqatpur/Private",
          "Unknown/Lodhran/Private",
          "Unknown/Mailsi/Private",
          "Unknown/Malakand/Private",
          "Unknown/Mandi Bahauddin/Private",
          "Unknown/Mansehra/Private",
          "Peshawar Division/Mardan/Private",
          "Unknown/Mian Channu/Private",
          "Sargodha Division/Mianwali/Private",
          "Mirpur Division/Mirpur/Private",
          "Multan Division/Multan/Private",
          "Unknown/Murree/Private",
          "Unknown/Muzaffargarh/Private",
          "Lahore Division/Nankana Sahib/Private",
          "Unknown/Narowal/Private",
          "Unknown/Naushahro Feroze/Private",
          "Unknown/Nowshera/Private",
          "Unknown/Okara/Private",
          "Unknown/Pakpattan/Private",
          "Unknown/Pasrur/Private",
          "Unknown/Pattoki/Private",
          "Peshawar Division/Peshawar/Private",
          "Unknown/Phalia/Private",
          "Unknown/Pind Dadan Khan/Private",
          "Quetta Division/Quetta/Private",
          "Bahawalpur Division/Rahim Yar Khan/Private",
          "Unknown/Raiwind/Private",
          "Unknown/Rawalkot/Private",
          "Rawalpindi Division/Rawalpindi/Private",
          "Unknown/Rawlakot/Private",
          "Unknown/Sadiqabad/Private",
          "Sahiwal Division/Sahiwal/Private",
          "Unknown/Sailkot/Private",
          "Unknown/Sambrial/Private",
          "Unknown/Samundri/Private",
          "Sargodha Division/Sargodha/Private",
          "Unknown/Shakargarh/Private",
          "Unknown/Sharaqpur/Private",
          "Lahore Division/Sheikhupura/Private",
          "Unknown/Shiekhupura/Private",
          "Unknown/Shorkot/Private",
          "Sialkot Division/Sialkot/Private",
          "Sukkur Division/Sukkur/Private",
          "Unknown/Swabi/Private",
          "Unknown/Swat/Private",
          "Unknown/Toba Tek Singh/Private",
          "Unknown/Vehari/Private",
          "Unknown/Wazirabad/Private",
          "Unknown/Zafarwal/Private",
          "Unknown/sargodha/Private",
          "Unknown/shiekhupura/Private",
          "Unknown/ Mandi Bahaudddin/Public",
          "Unknown/AJK/Public",
          "Unknown/Abbottabad/Public",
          "Unknown/Attock/Public",
          "Unknown/Badin/Public",
          "Unknown/Bagh/Public",
          "Bahawalpur Division/Bahawalnagar/Public",
          "Bahawalpur Division/Bahawalpur/Public",
          "Unknown/Bahawalpur /Public",
          "Unknown/Balakot/Public",
          "Unknown/Bannu/Public",
          "Sargodha Division/Bhakkar/Public",
          "Unknown/Bhera/Public",
          "Unknown/Bhimber/Public",
          "Unknown/Burewala/Public",
          "Unknown/Chakwal/Public",
          "Unknown/Chenab Nagar/Public",
          "Unknown/Chiniot/Public",
          "Unknown/Chitral/Public",
          "Dera Ghazi Khan Division/Dera Ghazi Khan/Public",
          "Unknown/Dera Ismail Khan/Public",
          "Faisalabad Division/Faisalabad/Public",
          "Gujranwala Division/Gujranwala/Public",
          "Gujranwala Division/Gujrat/Public",
          "Unknown/Hafizabad/Public",
          "Hyderabad Division/Hyderabad/Public",
          "Islamabad Capital Territory/Islamabad/Public",
          "Unknown/Jand/Public",
          "Unknown/Jhang/Public",
          "Unknown/Jhelum/Public",
          "Karachi Division/Karachi/Public",
          "Unknown/Kashmir/Public",
          "Lahore Division/Kasur/Public",
          "Unknown/Khanewal/Public",
          "Unknown/Khushab/Public",
          "Peshawar Division/Kohat/Public",
          "Lahore Division/Lahore/Public",
          "Unknown/Lasbela/Public",
          "Unknown/Malakand/Public",
          "Unknown/Mansehra/Public",
          "Sargodha Division/Mianwali/Public",
          "Multan Division/Multan/Public",
          "Lahore Division/Nankana Sahib/Public",
          "Unknown/Okara/Public",
          "Unknown/Pakpattan/Public",
          "Unknown/Palandari/Public",
          "Unknown/Pattoki/Public",
          "Peshawar Division/Peshawar/Public",
          "Quetta Division/Quetta/Public",
          "Bahawalpur Division/Rahim Yar Khan/Public",
          "Rawalpindi Division/Rawalpindi/Public",
          "Sahiwal Division/Sahiwal/Public",
          "Sargodha Division/Sargodha/Public",
          "Lahore Division/Sheikhupura/Public",
          "Sialkot Division/Sialkot/Public",
          "Sukkur Division/Sukkur/Public",
          "Unknown/Swat/Public",
          "Unknown/Uch Sharif/Public",
          "Unknown/Wazirabad/Public",
          "Unknown/Abbottabad/Unknown",
          "Unknown/Attock/Unknown",
          "Bahawalpur Division/Bahawalnagar/Unknown",
          "Bahawalpur Division/Bahawalpur/Unknown",
          "Unknown/Bannu/Unknown",
          "Unknown/Chakwal/Unknown",
          "Unknown/Charsadda/Unknown",
          "Dera Ghazi Khan Division/Dera Ghazi Khan/Unknown",
          "Unknown/Dera Ismail Khan/Unknown",
          "Faisalabad Division/Faisalabad/Unknown",
          "Gujranwala Division/Gujranwala/Unknown",
          "Gujranwala Division/Gujrat/Unknown",
          "Hyderabad Division/Hyderabad/Unknown",
          "Islamabad Capital Territory/Islamabad/Unknown",
          "Unknown/Jajja/Unknown",
          "Unknown/Jang/Unknown",
          "Unknown/Jhang/Unknown",
          "Unknown/Jhelum/Unknown",
          "Karachi Division/Karachi/Unknown",
          "Unknown/Kashmir/Unknown",
          "Lahore Division/Kasur/Unknown",
          "Unknown/Kharian/Unknown",
          "Peshawar Division/Kohat/Unknown",
          "Lahore Division/Lahore/Unknown",
          "Unknown/Lakki Marwat/Unknown",
          "Larkana Division/Larkana/Unknown",
          "Unknown/Lodhran/Unknown",
          "Unknown/Malakand/Unknown",
          "Unknown/Mandi Bahauddin/Unknown",
          "Unknown/Mandra/Unknown",
          "Unknown/Mansehra/Unknown",
          "Peshawar Division/Mardan/Unknown",
          "Sargodha Division/Mianwali/Unknown",
          "Mirpur Division/Mirpur/Unknown",
          "Multan Division/Multan/Unknown",
          "Unknown/Murree/Unknown",
          "Unknown/Nowshera/Unknown",
          "Unknown/Okara/Unknown",
          "Unknown/Pakpattan/Unknown",
          "Unknown/Pasrur/Unknown",
          "Peshawar Division/Peshawar/Unknown",
          "Unknown/Phalia/Unknown",
          "Quetta Division/Quetta/Unknown",
          "Rawalpindi Division/Rawalpindi/Unknown",
          "Sahiwal Division/Sahiwal/Unknown",
          "Sargodha Division/Sargodha/Unknown",
          "Lahore Division/Sheikhupura/Unknown",
          "Unknown/Shiekhupura/Unknown",
          "Sialkot Division/Sialkot/Unknown",
          "Sukkur Division/Sukkur/Unknown",
          "Unknown/Swabi/Unknown",
          "Unknown/Swat/Unknown",
          "Unknown/Taxila /Unknown",
          "Unknown/Toba Tek Singh/Unknown",
          "Unknown/Vehari/Unknown",
          "Unknown/ Mandi Bahaudddin",
          "Unknown/AJK",
          "Unknown/Abbotabad",
          "Unknown/Abbottabad",
          "Unknown/Attock",
          "Unknown/Badin",
          "Unknown/Bagh",
          "Bahawalpur Division/Bahawalnagar",
          "Bahawalpur Division/Bahawalpur",
          "Unknown/Bahawalpur ",
          "Unknown/Balakot",
          "Unknown/Bannu",
          "Unknown/Battagram",
          "Sargodha Division/Bhakkar",
          "Unknown/Bhera",
          "Unknown/Bhimber",
          "Unknown/Bhurban",
          "Unknown/Burewala",
          "Unknown/Chakwal",
          "Unknown/Charsadda",
          "Unknown/Chenab Nagar",
          "Unknown/Chiniot",
          "Unknown/Chishtian",
          "Unknown/Chitral",
          "Dera Ghazi Khan Division/Dera Ghazi Khan",
          "Unknown/Dera Ismail Khan",
          "Faisalabad Division/Faisalabad",
          "Unknown/Gojra",
          "Unknown/Gujar Khan",
          "Gujranwala Division/Gujranwala",
          "Gujranwala Division/Gujrat",
          "Unknown/Hafizabad",
          "Unknown/Haripur",
          "Unknown/Haroonabad",
          "Hyderabad Division/Hyderabad",
          "Islamabad Capital Territory/Islamabad",
          "Unknown/Jajja",
          "Unknown/Jalalpur Jattan",
          "Unknown/Jand",
          "Unknown/Jang",
          "Unknown/Jaranwala",
          "Unknown/Jauharabad",
          "Unknown/Jehlum",
          "Unknown/Jhang",
          "Unknown/Jhelum",
          "Unknown/Kallar Saydan",
          "Unknown/Kamoke",
          "Unknown/Kamoki",
          "Karachi Division/Karachi",
          "Unknown/Karak",
          "Unknown/Kashmir",
          "Lahore Division/Kasur",
          "Unknown/Khanewal",
          "Unknown/Khanpur",
          "Unknown/Kharian",
          "Unknown/Khushab",
          "Unknown/Killa Saifullah",
          "Peshawar Division/Kohat",
          "Unknown/Kot Addu",
          "Unknown/Kotli",
          "Lahore Division/Lahore",
          "Unknown/Lakki Marwat",
          "Larkana Division/Larkana",
          "Unknown/Lasbela",
          "Unknown/Layyah",
          "Unknown/Liaqatpur",
          "Unknown/Lodhran",
          "Unknown/Mailsi",
          "Unknown/Malakand",
          "Unknown/Mandi Bahauddin",
          "Unknown/Mandra",
          "Unknown/Mansehra",
          "Peshawar Division/Mardan",
          "Unknown/Mian Channu",
          "Sargodha Division/Mianwali",
          "Mirpur Division/Mirpur",
          "Multan Division/Multan",
          "Unknown/Murree",
          "Unknown/Muzaffargarh",
          "Lahore Division/Nankana Sahib",
          "Unknown/Narowal",
          "Unknown/Naushahro Feroze",
          "Unknown/Nowshera",
          "Unknown/Okara",
          "Unknown/Pakpattan",
          "Unknown/Palandari",
          "Unknown/Pasrur",
          "Unknown/Pattoki",
          "Peshawar Division/Peshawar",
          "Unknown/Phalia",
          "Unknown/Pind Dadan Khan",
          "Quetta Division/Quetta",
          "Bahawalpur Division/Rahim Yar Khan",
          "Unknown/Raiwind",
          "Unknown/Rawalkot",
          "Rawalpindi Division/Rawalpindi",
          "Unknown/Rawlakot",
          "Unknown/Sadiqabad",
          "Sahiwal Division/Sahiwal",
          "Unknown/Sailkot",
          "Unknown/Sambrial",
          "Unknown/Samundri",
          "Sargodha Division/Sargodha",
          "Unknown/Shakargarh",
          "Unknown/Sharaqpur",
          "Lahore Division/Sheikhupura",
          "Unknown/Shiekhupura",
          "Unknown/Shorkot",
          "Sialkot Division/Sialkot",
          "Sukkur Division/Sukkur",
          "Unknown/Swabi",
          "Unknown/Swat",
          "Unknown/Taxila ",
          "Unknown/Toba Tek Singh",
          "Unknown/Uch Sharif",
          "Unknown/Vehari",
          "Unknown/Wazirabad",
          "Unknown/Zafarwal",
          "Unknown/sargodha",
          "Unknown/shiekhupura",
          "Bahawalpur Division",
          "Dera Ghazi Khan Division",
          "Faisalabad Division",
          "Gujranwala Division",
          "Hyderabad Division",
          "Islamabad Capital Territory",
          "Karachi Division",
          "Lahore Division",
          "Larkana Division",
          "Mirpur Division",
          "Multan Division",
          "Peshawar Division",
          "Quetta Division",
          "Rawalpindi Division",
          "Sahiwal Division",
          "Sargodha Division",
          "Sialkot Division",
          "Sukkur Division",
          "Unknown"
         ],
         "labels": [
          "Private",
          "Private",
          "Private",
          "Private",
          "Private",
          "Private",
          "Private",
          "Private",
          "Private",
          "Private",
          "Private",
          "Private",
          "Private",
          "Private",
          "Private",
          "Private",
          "Private",
          "Private",
          "Private",
          "Private",
          "Private",
          "Private",
          "Private",
          "Private",
          "Private",
          "Private",
          "Private",
          "Private",
          "Private",
          "Private",
          "Private",
          "Private",
          "Private",
          "Private",
          "Private",
          "Private",
          "Private",
          "Private",
          "Private",
          "Private",
          "Private",
          "Private",
          "Private",
          "Private",
          "Private",
          "Private",
          "Private",
          "Private",
          "Private",
          "Private",
          "Private",
          "Private",
          "Private",
          "Private",
          "Private",
          "Private",
          "Private",
          "Private",
          "Private",
          "Private",
          "Private",
          "Private",
          "Private",
          "Private",
          "Private",
          "Private",
          "Private",
          "Private",
          "Private",
          "Private",
          "Private",
          "Private",
          "Private",
          "Private",
          "Private",
          "Private",
          "Private",
          "Private",
          "Private",
          "Private",
          "Private",
          "Private",
          "Private",
          "Private",
          "Private",
          "Private",
          "Private",
          "Private",
          "Private",
          "Private",
          "Private",
          "Private",
          "Private",
          "Private",
          "Private",
          "Private",
          "Private",
          "Private",
          "Private",
          "Private",
          "Private",
          "Private",
          "Public",
          "Public",
          "Public",
          "Public",
          "Public",
          "Public",
          "Public",
          "Public",
          "Public",
          "Public",
          "Public",
          "Public",
          "Public",
          "Public",
          "Public",
          "Public",
          "Public",
          "Public",
          "Public",
          "Public",
          "Public",
          "Public",
          "Public",
          "Public",
          "Public",
          "Public",
          "Public",
          "Public",
          "Public",
          "Public",
          "Public",
          "Public",
          "Public",
          "Public",
          "Public",
          "Public",
          "Public",
          "Public",
          "Public",
          "Public",
          "Public",
          "Public",
          "Public",
          "Public",
          "Public",
          "Public",
          "Public",
          "Public",
          "Public",
          "Public",
          "Public",
          "Public",
          "Public",
          "Public",
          "Public",
          "Public",
          "Public",
          "Public",
          "Public",
          "Unknown",
          "Unknown",
          "Unknown",
          "Unknown",
          "Unknown",
          "Unknown",
          "Unknown",
          "Unknown",
          "Unknown",
          "Unknown",
          "Unknown",
          "Unknown",
          "Unknown",
          "Unknown",
          "Unknown",
          "Unknown",
          "Unknown",
          "Unknown",
          "Unknown",
          "Unknown",
          "Unknown",
          "Unknown",
          "Unknown",
          "Unknown",
          "Unknown",
          "Unknown",
          "Unknown",
          "Unknown",
          "Unknown",
          "Unknown",
          "Unknown",
          "Unknown",
          "Unknown",
          "Unknown",
          "Unknown",
          "Unknown",
          "Unknown",
          "Unknown",
          "Unknown",
          "Unknown",
          "Unknown",
          "Unknown",
          "Unknown",
          "Unknown",
          "Unknown",
          "Unknown",
          "Unknown",
          "Unknown",
          "Unknown",
          "Unknown",
          "Unknown",
          "Unknown",
          "Unknown",
          "Unknown",
          "Unknown",
          " Mandi Bahaudddin",
          "AJK",
          "Abbotabad",
          "Abbottabad",
          "Attock",
          "Badin",
          "Bagh",
          "Bahawalnagar",
          "Bahawalpur",
          "Bahawalpur ",
          "Balakot",
          "Bannu",
          "Battagram",
          "Bhakkar",
          "Bhera",
          "Bhimber",
          "Bhurban",
          "Burewala",
          "Chakwal",
          "Charsadda",
          "Chenab Nagar",
          "Chiniot",
          "Chishtian",
          "Chitral",
          "Dera Ghazi Khan",
          "Dera Ismail Khan",
          "Faisalabad",
          "Gojra",
          "Gujar Khan",
          "Gujranwala",
          "Gujrat",
          "Hafizabad",
          "Haripur",
          "Haroonabad",
          "Hyderabad",
          "Islamabad",
          "Jajja",
          "Jalalpur Jattan",
          "Jand",
          "Jang",
          "Jaranwala",
          "Jauharabad",
          "Jehlum",
          "Jhang",
          "Jhelum",
          "Kallar Saydan",
          "Kamoke",
          "Kamoki",
          "Karachi",
          "Karak",
          "Kashmir",
          "Kasur",
          "Khanewal",
          "Khanpur",
          "Kharian",
          "Khushab",
          "Killa Saifullah",
          "Kohat",
          "Kot Addu",
          "Kotli",
          "Lahore",
          "Lakki Marwat",
          "Larkana",
          "Lasbela",
          "Layyah",
          "Liaqatpur",
          "Lodhran",
          "Mailsi",
          "Malakand",
          "Mandi Bahauddin",
          "Mandra",
          "Mansehra",
          "Mardan",
          "Mian Channu",
          "Mianwali",
          "Mirpur",
          "Multan",
          "Murree",
          "Muzaffargarh",
          "Nankana Sahib",
          "Narowal",
          "Naushahro Feroze",
          "Nowshera",
          "Okara",
          "Pakpattan",
          "Palandari",
          "Pasrur",
          "Pattoki",
          "Peshawar",
          "Phalia",
          "Pind Dadan Khan",
          "Quetta",
          "Rahim Yar Khan",
          "Raiwind",
          "Rawalkot",
          "Rawalpindi",
          "Rawlakot",
          "Sadiqabad",
          "Sahiwal",
          "Sailkot",
          "Sambrial",
          "Samundri",
          "Sargodha",
          "Shakargarh",
          "Sharaqpur",
          "Sheikhupura",
          "Shiekhupura",
          "Shorkot",
          "Sialkot",
          "Sukkur",
          "Swabi",
          "Swat",
          "Taxila ",
          "Toba Tek Singh",
          "Uch Sharif",
          "Vehari",
          "Wazirabad",
          "Zafarwal",
          "sargodha",
          "shiekhupura",
          "Bahawalpur Division",
          "Dera Ghazi Khan Division",
          "Faisalabad Division",
          "Gujranwala Division",
          "Hyderabad Division",
          "Islamabad Capital Territory",
          "Karachi Division",
          "Lahore Division",
          "Larkana Division",
          "Mirpur Division",
          "Multan Division",
          "Peshawar Division",
          "Quetta Division",
          "Rawalpindi Division",
          "Sahiwal Division",
          "Sargodha Division",
          "Sialkot Division",
          "Sukkur Division",
          "Unknown"
         ],
         "name": "",
         "parents": [
          "Unknown/AJK",
          "Unknown/Abbotabad",
          "Unknown/Abbottabad",
          "Unknown/Attock",
          "Bahawalpur Division/Bahawalnagar",
          "Bahawalpur Division/Bahawalpur",
          "Unknown/Bannu",
          "Unknown/Battagram",
          "Sargodha Division/Bhakkar",
          "Unknown/Bhimber",
          "Unknown/Bhurban",
          "Unknown/Burewala",
          "Unknown/Chakwal",
          "Unknown/Charsadda",
          "Unknown/Chiniot",
          "Unknown/Chishtian",
          "Unknown/Chitral",
          "Dera Ghazi Khan Division/Dera Ghazi Khan",
          "Unknown/Dera Ismail Khan",
          "Faisalabad Division/Faisalabad",
          "Unknown/Gojra",
          "Unknown/Gujar Khan",
          "Gujranwala Division/Gujranwala",
          "Gujranwala Division/Gujrat",
          "Unknown/Hafizabad",
          "Unknown/Haripur",
          "Unknown/Haroonabad",
          "Hyderabad Division/Hyderabad",
          "Islamabad Capital Territory/Islamabad",
          "Unknown/Jalalpur Jattan",
          "Unknown/Jang",
          "Unknown/Jaranwala",
          "Unknown/Jauharabad",
          "Unknown/Jehlum",
          "Unknown/Jhang",
          "Unknown/Jhelum",
          "Unknown/Kallar Saydan",
          "Unknown/Kamoke",
          "Unknown/Kamoki",
          "Karachi Division/Karachi",
          "Unknown/Karak",
          "Lahore Division/Kasur",
          "Unknown/Khanewal",
          "Unknown/Khanpur",
          "Unknown/Kharian",
          "Unknown/Killa Saifullah",
          "Peshawar Division/Kohat",
          "Unknown/Kot Addu",
          "Unknown/Kotli",
          "Lahore Division/Lahore",
          "Unknown/Layyah",
          "Unknown/Liaqatpur",
          "Unknown/Lodhran",
          "Unknown/Mailsi",
          "Unknown/Malakand",
          "Unknown/Mandi Bahauddin",
          "Unknown/Mansehra",
          "Peshawar Division/Mardan",
          "Unknown/Mian Channu",
          "Sargodha Division/Mianwali",
          "Mirpur Division/Mirpur",
          "Multan Division/Multan",
          "Unknown/Murree",
          "Unknown/Muzaffargarh",
          "Lahore Division/Nankana Sahib",
          "Unknown/Narowal",
          "Unknown/Naushahro Feroze",
          "Unknown/Nowshera",
          "Unknown/Okara",
          "Unknown/Pakpattan",
          "Unknown/Pasrur",
          "Unknown/Pattoki",
          "Peshawar Division/Peshawar",
          "Unknown/Phalia",
          "Unknown/Pind Dadan Khan",
          "Quetta Division/Quetta",
          "Bahawalpur Division/Rahim Yar Khan",
          "Unknown/Raiwind",
          "Unknown/Rawalkot",
          "Rawalpindi Division/Rawalpindi",
          "Unknown/Rawlakot",
          "Unknown/Sadiqabad",
          "Sahiwal Division/Sahiwal",
          "Unknown/Sailkot",
          "Unknown/Sambrial",
          "Unknown/Samundri",
          "Sargodha Division/Sargodha",
          "Unknown/Shakargarh",
          "Unknown/Sharaqpur",
          "Lahore Division/Sheikhupura",
          "Unknown/Shiekhupura",
          "Unknown/Shorkot",
          "Sialkot Division/Sialkot",
          "Sukkur Division/Sukkur",
          "Unknown/Swabi",
          "Unknown/Swat",
          "Unknown/Toba Tek Singh",
          "Unknown/Vehari",
          "Unknown/Wazirabad",
          "Unknown/Zafarwal",
          "Unknown/sargodha",
          "Unknown/shiekhupura",
          "Unknown/ Mandi Bahaudddin",
          "Unknown/AJK",
          "Unknown/Abbottabad",
          "Unknown/Attock",
          "Unknown/Badin",
          "Unknown/Bagh",
          "Bahawalpur Division/Bahawalnagar",
          "Bahawalpur Division/Bahawalpur",
          "Unknown/Bahawalpur ",
          "Unknown/Balakot",
          "Unknown/Bannu",
          "Sargodha Division/Bhakkar",
          "Unknown/Bhera",
          "Unknown/Bhimber",
          "Unknown/Burewala",
          "Unknown/Chakwal",
          "Unknown/Chenab Nagar",
          "Unknown/Chiniot",
          "Unknown/Chitral",
          "Dera Ghazi Khan Division/Dera Ghazi Khan",
          "Unknown/Dera Ismail Khan",
          "Faisalabad Division/Faisalabad",
          "Gujranwala Division/Gujranwala",
          "Gujranwala Division/Gujrat",
          "Unknown/Hafizabad",
          "Hyderabad Division/Hyderabad",
          "Islamabad Capital Territory/Islamabad",
          "Unknown/Jand",
          "Unknown/Jhang",
          "Unknown/Jhelum",
          "Karachi Division/Karachi",
          "Unknown/Kashmir",
          "Lahore Division/Kasur",
          "Unknown/Khanewal",
          "Unknown/Khushab",
          "Peshawar Division/Kohat",
          "Lahore Division/Lahore",
          "Unknown/Lasbela",
          "Unknown/Malakand",
          "Unknown/Mansehra",
          "Sargodha Division/Mianwali",
          "Multan Division/Multan",
          "Lahore Division/Nankana Sahib",
          "Unknown/Okara",
          "Unknown/Pakpattan",
          "Unknown/Palandari",
          "Unknown/Pattoki",
          "Peshawar Division/Peshawar",
          "Quetta Division/Quetta",
          "Bahawalpur Division/Rahim Yar Khan",
          "Rawalpindi Division/Rawalpindi",
          "Sahiwal Division/Sahiwal",
          "Sargodha Division/Sargodha",
          "Lahore Division/Sheikhupura",
          "Sialkot Division/Sialkot",
          "Sukkur Division/Sukkur",
          "Unknown/Swat",
          "Unknown/Uch Sharif",
          "Unknown/Wazirabad",
          "Unknown/Abbottabad",
          "Unknown/Attock",
          "Bahawalpur Division/Bahawalnagar",
          "Bahawalpur Division/Bahawalpur",
          "Unknown/Bannu",
          "Unknown/Chakwal",
          "Unknown/Charsadda",
          "Dera Ghazi Khan Division/Dera Ghazi Khan",
          "Unknown/Dera Ismail Khan",
          "Faisalabad Division/Faisalabad",
          "Gujranwala Division/Gujranwala",
          "Gujranwala Division/Gujrat",
          "Hyderabad Division/Hyderabad",
          "Islamabad Capital Territory/Islamabad",
          "Unknown/Jajja",
          "Unknown/Jang",
          "Unknown/Jhang",
          "Unknown/Jhelum",
          "Karachi Division/Karachi",
          "Unknown/Kashmir",
          "Lahore Division/Kasur",
          "Unknown/Kharian",
          "Peshawar Division/Kohat",
          "Lahore Division/Lahore",
          "Unknown/Lakki Marwat",
          "Larkana Division/Larkana",
          "Unknown/Lodhran",
          "Unknown/Malakand",
          "Unknown/Mandi Bahauddin",
          "Unknown/Mandra",
          "Unknown/Mansehra",
          "Peshawar Division/Mardan",
          "Sargodha Division/Mianwali",
          "Mirpur Division/Mirpur",
          "Multan Division/Multan",
          "Unknown/Murree",
          "Unknown/Nowshera",
          "Unknown/Okara",
          "Unknown/Pakpattan",
          "Unknown/Pasrur",
          "Peshawar Division/Peshawar",
          "Unknown/Phalia",
          "Quetta Division/Quetta",
          "Rawalpindi Division/Rawalpindi",
          "Sahiwal Division/Sahiwal",
          "Sargodha Division/Sargodha",
          "Lahore Division/Sheikhupura",
          "Unknown/Shiekhupura",
          "Sialkot Division/Sialkot",
          "Sukkur Division/Sukkur",
          "Unknown/Swabi",
          "Unknown/Swat",
          "Unknown/Taxila ",
          "Unknown/Toba Tek Singh",
          "Unknown/Vehari",
          "Unknown",
          "Unknown",
          "Unknown",
          "Unknown",
          "Unknown",
          "Unknown",
          "Unknown",
          "Bahawalpur Division",
          "Bahawalpur Division",
          "Unknown",
          "Unknown",
          "Unknown",
          "Unknown",
          "Sargodha Division",
          "Unknown",
          "Unknown",
          "Unknown",
          "Unknown",
          "Unknown",
          "Unknown",
          "Unknown",
          "Unknown",
          "Unknown",
          "Unknown",
          "Dera Ghazi Khan Division",
          "Unknown",
          "Faisalabad Division",
          "Unknown",
          "Unknown",
          "Gujranwala Division",
          "Gujranwala Division",
          "Unknown",
          "Unknown",
          "Unknown",
          "Hyderabad Division",
          "Islamabad Capital Territory",
          "Unknown",
          "Unknown",
          "Unknown",
          "Unknown",
          "Unknown",
          "Unknown",
          "Unknown",
          "Unknown",
          "Unknown",
          "Unknown",
          "Unknown",
          "Unknown",
          "Karachi Division",
          "Unknown",
          "Unknown",
          "Lahore Division",
          "Unknown",
          "Unknown",
          "Unknown",
          "Unknown",
          "Unknown",
          "Peshawar Division",
          "Unknown",
          "Unknown",
          "Lahore Division",
          "Unknown",
          "Larkana Division",
          "Unknown",
          "Unknown",
          "Unknown",
          "Unknown",
          "Unknown",
          "Unknown",
          "Unknown",
          "Unknown",
          "Unknown",
          "Peshawar Division",
          "Unknown",
          "Sargodha Division",
          "Mirpur Division",
          "Multan Division",
          "Unknown",
          "Unknown",
          "Lahore Division",
          "Unknown",
          "Unknown",
          "Unknown",
          "Unknown",
          "Unknown",
          "Unknown",
          "Unknown",
          "Unknown",
          "Peshawar Division",
          "Unknown",
          "Unknown",
          "Quetta Division",
          "Bahawalpur Division",
          "Unknown",
          "Unknown",
          "Rawalpindi Division",
          "Unknown",
          "Unknown",
          "Sahiwal Division",
          "Unknown",
          "Unknown",
          "Unknown",
          "Sargodha Division",
          "Unknown",
          "Unknown",
          "Lahore Division",
          "Unknown",
          "Unknown",
          "Sialkot Division",
          "Sukkur Division",
          "Unknown",
          "Unknown",
          "Unknown",
          "Unknown",
          "Unknown",
          "Unknown",
          "Unknown",
          "Unknown",
          "Unknown",
          "Unknown",
          "",
          "",
          "",
          "",
          "",
          "",
          "",
          "",
          "",
          "",
          "",
          "",
          "",
          "",
          "",
          "",
          "",
          "",
          ""
         ],
         "type": "sunburst",
         "values": [
          2,
          1,
          9,
          2,
          3,
          8,
          3,
          1,
          7,
          7,
          1,
          1,
          1,
          2,
          2,
          2,
          1,
          1,
          5,
          19,
          1,
          1,
          18,
          5,
          5,
          2,
          1,
          2,
          83,
          1,
          1,
          1,
          1,
          1,
          5,
          3,
          1,
          1,
          1,
          13,
          1,
          3,
          2,
          2,
          2,
          1,
          11,
          1,
          1,
          58,
          2,
          1,
          2,
          1,
          1,
          4,
          2,
          7,
          1,
          2,
          2,
          17,
          1,
          1,
          1,
          3,
          1,
          3,
          9,
          5,
          2,
          3,
          23,
          1,
          1,
          3,
          8,
          1,
          1,
          74,
          1,
          1,
          6,
          1,
          2,
          1,
          20,
          1,
          2,
          8,
          1,
          1,
          12,
          1,
          2,
          2,
          2,
          1,
          3,
          1,
          1,
          1,
          1,
          2,
          3,
          19,
          4,
          4,
          19,
          22,
          1,
          1,
          9,
          20,
          1,
          4,
          1,
          14,
          2,
          9,
          2,
          14,
          1,
          57,
          33,
          23,
          7,
          3,
          6,
          1,
          16,
          12,
          3,
          2,
          13,
          15,
          14,
          10,
          63,
          1,
          2,
          1,
          1,
          7,
          3,
          1,
          2,
          1,
          1,
          20,
          5,
          2,
          11,
          1,
          35,
          3,
          5,
          1,
          1,
          1,
          3,
          16,
          5,
          1,
          8,
          1,
          3,
          1,
          2,
          1,
          17,
          10,
          9,
          6,
          38,
          1,
          1,
          2,
          1,
          104,
          2,
          3,
          1,
          1,
          106,
          1,
          2,
          1,
          1,
          1,
          1,
          1,
          3,
          3,
          4,
          22,
          2,
          1,
          2,
          2,
          1,
          43,
          1,
          7,
          42,
          9,
          11,
          4,
          1,
          12,
          1,
          1,
          2,
          1,
          3,
          3,
          1,
          4,
          1,
          28,
          26,
          4,
          4,
          23,
          38,
          1,
          1,
          13,
          1,
          27,
          1,
          11,
          1,
          2,
          18,
          3,
          2,
          11,
          2,
          3,
          17,
          7,
          93,
          1,
          1,
          61,
          37,
          12,
          2,
          1,
          11,
          127,
          1,
          1,
          1,
          2,
          1,
          1,
          1,
          23,
          16,
          1,
          1,
          1,
          120,
          1,
          4,
          19,
          17,
          2,
          3,
          14,
          1,
          22,
          1,
          1,
          227,
          1,
          2,
          1,
          2,
          1,
          3,
          1,
          4,
          5,
          1,
          4,
          10,
          1,
          6,
          6,
          46,
          3,
          1,
          4,
          3,
          1,
          4,
          12,
          9,
          1,
          3,
          4,
          86,
          2,
          1,
          15,
          10,
          1,
          1,
          127,
          1,
          1,
          16,
          1,
          2,
          1,
          66,
          1,
          2,
          15,
          2,
          1,
          29,
          3,
          3,
          5,
          1,
          5,
          1,
          4,
          6,
          1,
          1,
          1,
          71,
          17,
          93,
          98,
          11,
          127,
          120,
          265,
          2,
          6,
          46,
          118,
          15,
          127,
          16,
          99,
          29,
          3,
          366
         ]
        }
       ],
       "layout": {
        "legend": {
         "tracegroupgap": 0
        },
        "template": {
         "data": {
          "bar": [
           {
            "error_x": {
             "color": "#2a3f5f"
            },
            "error_y": {
             "color": "#2a3f5f"
            },
            "marker": {
             "line": {
              "color": "#E5ECF6",
              "width": 0.5
             },
             "pattern": {
              "fillmode": "overlay",
              "size": 10,
              "solidity": 0.2
             }
            },
            "type": "bar"
           }
          ],
          "barpolar": [
           {
            "marker": {
             "line": {
              "color": "#E5ECF6",
              "width": 0.5
             },
             "pattern": {
              "fillmode": "overlay",
              "size": 10,
              "solidity": 0.2
             }
            },
            "type": "barpolar"
           }
          ],
          "carpet": [
           {
            "aaxis": {
             "endlinecolor": "#2a3f5f",
             "gridcolor": "white",
             "linecolor": "white",
             "minorgridcolor": "white",
             "startlinecolor": "#2a3f5f"
            },
            "baxis": {
             "endlinecolor": "#2a3f5f",
             "gridcolor": "white",
             "linecolor": "white",
             "minorgridcolor": "white",
             "startlinecolor": "#2a3f5f"
            },
            "type": "carpet"
           }
          ],
          "choropleth": [
           {
            "colorbar": {
             "outlinewidth": 0,
             "ticks": ""
            },
            "type": "choropleth"
           }
          ],
          "contour": [
           {
            "colorbar": {
             "outlinewidth": 0,
             "ticks": ""
            },
            "colorscale": [
             [
              0,
              "#0d0887"
             ],
             [
              0.1111111111111111,
              "#46039f"
             ],
             [
              0.2222222222222222,
              "#7201a8"
             ],
             [
              0.3333333333333333,
              "#9c179e"
             ],
             [
              0.4444444444444444,
              "#bd3786"
             ],
             [
              0.5555555555555556,
              "#d8576b"
             ],
             [
              0.6666666666666666,
              "#ed7953"
             ],
             [
              0.7777777777777778,
              "#fb9f3a"
             ],
             [
              0.8888888888888888,
              "#fdca26"
             ],
             [
              1,
              "#f0f921"
             ]
            ],
            "type": "contour"
           }
          ],
          "contourcarpet": [
           {
            "colorbar": {
             "outlinewidth": 0,
             "ticks": ""
            },
            "type": "contourcarpet"
           }
          ],
          "heatmap": [
           {
            "colorbar": {
             "outlinewidth": 0,
             "ticks": ""
            },
            "colorscale": [
             [
              0,
              "#0d0887"
             ],
             [
              0.1111111111111111,
              "#46039f"
             ],
             [
              0.2222222222222222,
              "#7201a8"
             ],
             [
              0.3333333333333333,
              "#9c179e"
             ],
             [
              0.4444444444444444,
              "#bd3786"
             ],
             [
              0.5555555555555556,
              "#d8576b"
             ],
             [
              0.6666666666666666,
              "#ed7953"
             ],
             [
              0.7777777777777778,
              "#fb9f3a"
             ],
             [
              0.8888888888888888,
              "#fdca26"
             ],
             [
              1,
              "#f0f921"
             ]
            ],
            "type": "heatmap"
           }
          ],
          "heatmapgl": [
           {
            "colorbar": {
             "outlinewidth": 0,
             "ticks": ""
            },
            "colorscale": [
             [
              0,
              "#0d0887"
             ],
             [
              0.1111111111111111,
              "#46039f"
             ],
             [
              0.2222222222222222,
              "#7201a8"
             ],
             [
              0.3333333333333333,
              "#9c179e"
             ],
             [
              0.4444444444444444,
              "#bd3786"
             ],
             [
              0.5555555555555556,
              "#d8576b"
             ],
             [
              0.6666666666666666,
              "#ed7953"
             ],
             [
              0.7777777777777778,
              "#fb9f3a"
             ],
             [
              0.8888888888888888,
              "#fdca26"
             ],
             [
              1,
              "#f0f921"
             ]
            ],
            "type": "heatmapgl"
           }
          ],
          "histogram": [
           {
            "marker": {
             "pattern": {
              "fillmode": "overlay",
              "size": 10,
              "solidity": 0.2
             }
            },
            "type": "histogram"
           }
          ],
          "histogram2d": [
           {
            "colorbar": {
             "outlinewidth": 0,
             "ticks": ""
            },
            "colorscale": [
             [
              0,
              "#0d0887"
             ],
             [
              0.1111111111111111,
              "#46039f"
             ],
             [
              0.2222222222222222,
              "#7201a8"
             ],
             [
              0.3333333333333333,
              "#9c179e"
             ],
             [
              0.4444444444444444,
              "#bd3786"
             ],
             [
              0.5555555555555556,
              "#d8576b"
             ],
             [
              0.6666666666666666,
              "#ed7953"
             ],
             [
              0.7777777777777778,
              "#fb9f3a"
             ],
             [
              0.8888888888888888,
              "#fdca26"
             ],
             [
              1,
              "#f0f921"
             ]
            ],
            "type": "histogram2d"
           }
          ],
          "histogram2dcontour": [
           {
            "colorbar": {
             "outlinewidth": 0,
             "ticks": ""
            },
            "colorscale": [
             [
              0,
              "#0d0887"
             ],
             [
              0.1111111111111111,
              "#46039f"
             ],
             [
              0.2222222222222222,
              "#7201a8"
             ],
             [
              0.3333333333333333,
              "#9c179e"
             ],
             [
              0.4444444444444444,
              "#bd3786"
             ],
             [
              0.5555555555555556,
              "#d8576b"
             ],
             [
              0.6666666666666666,
              "#ed7953"
             ],
             [
              0.7777777777777778,
              "#fb9f3a"
             ],
             [
              0.8888888888888888,
              "#fdca26"
             ],
             [
              1,
              "#f0f921"
             ]
            ],
            "type": "histogram2dcontour"
           }
          ],
          "mesh3d": [
           {
            "colorbar": {
             "outlinewidth": 0,
             "ticks": ""
            },
            "type": "mesh3d"
           }
          ],
          "parcoords": [
           {
            "line": {
             "colorbar": {
              "outlinewidth": 0,
              "ticks": ""
             }
            },
            "type": "parcoords"
           }
          ],
          "pie": [
           {
            "automargin": true,
            "type": "pie"
           }
          ],
          "scatter": [
           {
            "fillpattern": {
             "fillmode": "overlay",
             "size": 10,
             "solidity": 0.2
            },
            "type": "scatter"
           }
          ],
          "scatter3d": [
           {
            "line": {
             "colorbar": {
              "outlinewidth": 0,
              "ticks": ""
             }
            },
            "marker": {
             "colorbar": {
              "outlinewidth": 0,
              "ticks": ""
             }
            },
            "type": "scatter3d"
           }
          ],
          "scattercarpet": [
           {
            "marker": {
             "colorbar": {
              "outlinewidth": 0,
              "ticks": ""
             }
            },
            "type": "scattercarpet"
           }
          ],
          "scattergeo": [
           {
            "marker": {
             "colorbar": {
              "outlinewidth": 0,
              "ticks": ""
             }
            },
            "type": "scattergeo"
           }
          ],
          "scattergl": [
           {
            "marker": {
             "colorbar": {
              "outlinewidth": 0,
              "ticks": ""
             }
            },
            "type": "scattergl"
           }
          ],
          "scattermapbox": [
           {
            "marker": {
             "colorbar": {
              "outlinewidth": 0,
              "ticks": ""
             }
            },
            "type": "scattermapbox"
           }
          ],
          "scatterpolar": [
           {
            "marker": {
             "colorbar": {
              "outlinewidth": 0,
              "ticks": ""
             }
            },
            "type": "scatterpolar"
           }
          ],
          "scatterpolargl": [
           {
            "marker": {
             "colorbar": {
              "outlinewidth": 0,
              "ticks": ""
             }
            },
            "type": "scatterpolargl"
           }
          ],
          "scatterternary": [
           {
            "marker": {
             "colorbar": {
              "outlinewidth": 0,
              "ticks": ""
             }
            },
            "type": "scatterternary"
           }
          ],
          "surface": [
           {
            "colorbar": {
             "outlinewidth": 0,
             "ticks": ""
            },
            "colorscale": [
             [
              0,
              "#0d0887"
             ],
             [
              0.1111111111111111,
              "#46039f"
             ],
             [
              0.2222222222222222,
              "#7201a8"
             ],
             [
              0.3333333333333333,
              "#9c179e"
             ],
             [
              0.4444444444444444,
              "#bd3786"
             ],
             [
              0.5555555555555556,
              "#d8576b"
             ],
             [
              0.6666666666666666,
              "#ed7953"
             ],
             [
              0.7777777777777778,
              "#fb9f3a"
             ],
             [
              0.8888888888888888,
              "#fdca26"
             ],
             [
              1,
              "#f0f921"
             ]
            ],
            "type": "surface"
           }
          ],
          "table": [
           {
            "cells": {
             "fill": {
              "color": "#EBF0F8"
             },
             "line": {
              "color": "white"
             }
            },
            "header": {
             "fill": {
              "color": "#C8D4E3"
             },
             "line": {
              "color": "white"
             }
            },
            "type": "table"
           }
          ]
         },
         "layout": {
          "annotationdefaults": {
           "arrowcolor": "#2a3f5f",
           "arrowhead": 0,
           "arrowwidth": 1
          },
          "autotypenumbers": "strict",
          "coloraxis": {
           "colorbar": {
            "outlinewidth": 0,
            "ticks": ""
           }
          },
          "colorscale": {
           "diverging": [
            [
             0,
             "#8e0152"
            ],
            [
             0.1,
             "#c51b7d"
            ],
            [
             0.2,
             "#de77ae"
            ],
            [
             0.3,
             "#f1b6da"
            ],
            [
             0.4,
             "#fde0ef"
            ],
            [
             0.5,
             "#f7f7f7"
            ],
            [
             0.6,
             "#e6f5d0"
            ],
            [
             0.7,
             "#b8e186"
            ],
            [
             0.8,
             "#7fbc41"
            ],
            [
             0.9,
             "#4d9221"
            ],
            [
             1,
             "#276419"
            ]
           ],
           "sequential": [
            [
             0,
             "#0d0887"
            ],
            [
             0.1111111111111111,
             "#46039f"
            ],
            [
             0.2222222222222222,
             "#7201a8"
            ],
            [
             0.3333333333333333,
             "#9c179e"
            ],
            [
             0.4444444444444444,
             "#bd3786"
            ],
            [
             0.5555555555555556,
             "#d8576b"
            ],
            [
             0.6666666666666666,
             "#ed7953"
            ],
            [
             0.7777777777777778,
             "#fb9f3a"
            ],
            [
             0.8888888888888888,
             "#fdca26"
            ],
            [
             1,
             "#f0f921"
            ]
           ],
           "sequentialminus": [
            [
             0,
             "#0d0887"
            ],
            [
             0.1111111111111111,
             "#46039f"
            ],
            [
             0.2222222222222222,
             "#7201a8"
            ],
            [
             0.3333333333333333,
             "#9c179e"
            ],
            [
             0.4444444444444444,
             "#bd3786"
            ],
            [
             0.5555555555555556,
             "#d8576b"
            ],
            [
             0.6666666666666666,
             "#ed7953"
            ],
            [
             0.7777777777777778,
             "#fb9f3a"
            ],
            [
             0.8888888888888888,
             "#fdca26"
            ],
            [
             1,
             "#f0f921"
            ]
           ]
          },
          "colorway": [
           "#636efa",
           "#EF553B",
           "#00cc96",
           "#ab63fa",
           "#FFA15A",
           "#19d3f3",
           "#FF6692",
           "#B6E880",
           "#FF97FF",
           "#FECB52"
          ],
          "font": {
           "color": "#2a3f5f"
          },
          "geo": {
           "bgcolor": "white",
           "lakecolor": "white",
           "landcolor": "#E5ECF6",
           "showlakes": true,
           "showland": true,
           "subunitcolor": "white"
          },
          "hoverlabel": {
           "align": "left"
          },
          "hovermode": "closest",
          "mapbox": {
           "style": "light"
          },
          "paper_bgcolor": "white",
          "plot_bgcolor": "#E5ECF6",
          "polar": {
           "angularaxis": {
            "gridcolor": "white",
            "linecolor": "white",
            "ticks": ""
           },
           "bgcolor": "#E5ECF6",
           "radialaxis": {
            "gridcolor": "white",
            "linecolor": "white",
            "ticks": ""
           }
          },
          "scene": {
           "xaxis": {
            "backgroundcolor": "#E5ECF6",
            "gridcolor": "white",
            "gridwidth": 2,
            "linecolor": "white",
            "showbackground": true,
            "ticks": "",
            "zerolinecolor": "white"
           },
           "yaxis": {
            "backgroundcolor": "#E5ECF6",
            "gridcolor": "white",
            "gridwidth": 2,
            "linecolor": "white",
            "showbackground": true,
            "ticks": "",
            "zerolinecolor": "white"
           },
           "zaxis": {
            "backgroundcolor": "#E5ECF6",
            "gridcolor": "white",
            "gridwidth": 2,
            "linecolor": "white",
            "showbackground": true,
            "ticks": "",
            "zerolinecolor": "white"
           }
          },
          "shapedefaults": {
           "line": {
            "color": "#2a3f5f"
           }
          },
          "ternary": {
           "aaxis": {
            "gridcolor": "white",
            "linecolor": "white",
            "ticks": ""
           },
           "baxis": {
            "gridcolor": "white",
            "linecolor": "white",
            "ticks": ""
           },
           "bgcolor": "#E5ECF6",
           "caxis": {
            "gridcolor": "white",
            "linecolor": "white",
            "ticks": ""
           }
          },
          "title": {
           "x": 0.05
          },
          "xaxis": {
           "automargin": true,
           "gridcolor": "white",
           "linecolor": "white",
           "ticks": "",
           "title": {
            "standoff": 15
           },
           "zerolinecolor": "white",
           "zerolinewidth": 2
          },
          "yaxis": {
           "automargin": true,
           "gridcolor": "white",
           "linecolor": "white",
           "ticks": "",
           "title": {
            "standoff": 15
           },
           "zerolinecolor": "white",
           "zerolinewidth": 2
          }
         }
        },
        "title": {
         "text": "Distribution of Intermediate Colleges in Pakistan"
        }
       }
      }
     },
     "metadata": {},
     "output_type": "display_data"
    }
   ],
   "source": [
    "# Create a sunburst plot to visualize the distribution of colleges by Region,  City, and then Sector\n",
    "fig = px.sunburst(df, path=['Region', 'City', 'Sector'], title=\"Distribution of Intermediate Colleges in Pakistan\")\n",
    "\n",
    "# Display the plot\n",
    "fig.show()"
   ]
  },
  {
   "cell_type": "markdown",
   "metadata": {},
   "source": [
    "**Figure-6**: Sunburst plot showing the distribution of colleges by region, city, and sector.\n",
    "\n",
    "**Answer**: The sunburst plot displays the distribution of intermediate colleges in Pakistan by region, city, and sector. It highlights the concentration of colleges in different areas and their division into public and private sectors, aiding in understanding the geographic spread and sectoral distribution of educational institutions."
   ]
  },
  {
   "cell_type": "markdown",
   "metadata": {},
   "source": [
    "### Q 5 : What is the sector distribution by city?\n",
    "\n"
   ]
  },
  {
   "cell_type": "code",
   "execution_count": 34,
   "metadata": {},
   "outputs": [
    {
     "data": {
      "text/plain": [
       "<Figure size 1500x700 with 0 Axes>"
      ]
     },
     "metadata": {},
     "output_type": "display_data"
    },
    {
     "data": {
      "image/png": "[encoded data removed]",
      "text/plain": [
       "<Figure size 1500x700 with 1 Axes>"
      ]
     },
     "metadata": {},
     "output_type": "display_data"
    }
   ],
   "source": [
    "# Distributation of City by Sector\n",
    "plt.figure(figsize=(15, 7))\n",
    "sector_city = pd.crosstab(df['City'], df['Sector']).apply(lambda x: x/x.sum(), axis=1)\n",
    "sector_city.loc[df['City'].value_counts().head(10).index].plot(kind='bar', stacked=True, colormap='viridis', figsize=(15, 7))\n",
    "plt.title('Sector Distribution by City')\n",
    "plt.xlabel('City')\n",
    "plt.ylabel('Proportion')\n",
    "plt.xticks(rotation=90)\n",
    "plt.legend(title='Sector')\n",
    "plt.show()\n"
   ]
  },
  {
   "cell_type": "markdown",
   "metadata": {},
   "source": [
    "**Figure-7**: The Bar plot showing sector distribution.\n",
    "\n",
    "**Answer**: The bar chart shows the proportion of public and private sector intermediate colleges in Pakistan's top 10 cities. It visually compares the distribution of colleges by sector across different cities, highlighting regional variations in educational infrastructure."
   ]
  },
  {
   "cell_type": "markdown",
   "metadata": {},
   "source": [
    "### Q 6 : What is the sector distribution by Region?"
   ]
  },
  {
   "cell_type": "code",
   "execution_count": 109,
   "metadata": {},
   "outputs": [
    {
     "data": {
      "text/plain": [
       "<Figure size 1500x700 with 0 Axes>"
      ]
     },
     "metadata": {},
     "output_type": "display_data"
    },
    {
     "data": {
      "image/png": "[encoded data removed]",
      "text/plain": [
       "<Figure size 1500x700 with 1 Axes>"
      ]
     },
     "metadata": {},
     "output_type": "display_data"
    }
   ],
   "source": [
    "#bar plot by sector distribution by region\n",
    "\n",
    "plt.figure(figsize=(15, 7))\n",
    "sector_region = pd.crosstab(df['Region'], df['Sector']).apply(lambda x: x/x.sum(), axis=1)\n",
    "sector_region.plot(kind='bar', stacked=True, colormap='coolwarm', figsize=(15, 7))\n",
    "plt.title('Sector Distribution by Region')\n",
    "plt.xlabel('Region')\n",
    "plt.ylabel('Proportion')\n",
    "plt.xticks(rotation=90)\n",
    "plt.legend(title='Sector')\n",
    "plt.show()"
   ]
  },
  {
   "cell_type": "markdown",
   "metadata": {},
   "source": [
    "**Figure - 8**: The bar plot shows the proporation of public and private sector\n",
    "\n",
    "**Answer**: The bar plot illustrates the proportion of public and private sector intermediate colleges across different regions in Pakistan. It visually compares how sectors are distributed geographically, offering insights into regional disparities and concentrations of educational institutions by sector."
   ]
  },
  {
   "cell_type": "markdown",
   "metadata": {},
   "source": [
    "### Q 7: What are the rating distribution by the Region? "
   ]
  },
  {
   "cell_type": "code",
   "execution_count": 68,
   "metadata": {},
   "outputs": [
    {
     "data": {
      "image/png": "[encoded data removed]",
      "text/plain": [
       "<Figure size 1500x700 with 2 Axes>"
      ]
     },
     "metadata": {},
     "output_type": "display_data"
    }
   ],
   "source": [
    "# bar plot by rating distribution by region\n",
    "\n",
    "plt.figure(figsize=(15, 7))\n",
    "rating_region = pd.crosstab(df['Region'], df['Rating'])\n",
    "sns.heatmap(rating_region, annot=True, cmap='coolwarm')\n",
    "plt.title('Rating Distribution by Region')\n",
    "plt.xlabel('Rating')\n",
    "plt.ylabel('Region')\n",
    "plt.show()\n"
   ]
  },
  {
   "cell_type": "markdown",
   "metadata": {},
   "source": [
    "**Figure-9** :Heatmap of Rating Distribution by Region\n",
    "\n",
    "**Answer**: The heatmap visualizes the distribution of ratings among intermediate colleges across different regions in Pakistan. Each cell represents the count of colleges with a specific rating in a particular region, providing a clear overview of regional variations in educational quality as assessed by ratings."
   ]
  },
  {
   "cell_type": "markdown",
   "metadata": {},
   "source": [
    "### Q 8: What is the average Rating of sectors?"
   ]
  },
  {
   "cell_type": "code",
   "execution_count": 39,
   "metadata": {},
   "outputs": [
    {
     "data": {
      "image/png": "[encoded data removed]",
      "text/plain": [
       "<Figure size 1000x800 with 1 Axes>"
      ]
     },
     "metadata": {},
     "output_type": "display_data"
    }
   ],
   "source": [
    "import matplotlib.pyplot as plt\n",
    "\n",
    "# Assuming you have a dataframe df with a 'Sector' column\n",
    "sector_counts = df['Sector'].value_counts()\n",
    "sector_colors = {'Public': '#1d43b5', 'Private': '#245e23', 'Unknown': '#fcba03'}\n",
    "\n",
    "plt.figure(figsize=(10, 8))\n",
    "plt.pie(sector_counts, labels=sector_counts.index, colors=[sector_colors[key] for key in sector_counts.index], autopct='%1.1f%%')\n",
    "plt.title('Sector vs Rating')\n",
    "plt.show()"
   ]
  },
  {
   "cell_type": "markdown",
   "metadata": {},
   "source": [
    "**Figure-10:** The pie chart visually represents the distribution of sectors (public, private, unknown)\n",
    "\n",
    "**Answer**: The pie chart visually represents the distribution of sectors (public, private, unknown) in the dataset. It shows the proportion of each sector type among the intermediate colleges, providing an overview of how colleges are categorized across different sectors"
   ]
  },
  {
   "cell_type": "markdown",
   "metadata": {},
   "source": [
    "### Q 9 : What are the Top 10 Most Frequent Study Programs? "
   ]
  },
  {
   "cell_type": "code",
   "execution_count": 42,
   "metadata": {},
   "outputs": [
    {
     "data": {
      "image/png": "[encoded data removed]",
      "text/plain": [
       "<Figure size 1600x600 with 1 Axes>"
      ]
     },
     "metadata": {},
     "output_type": "display_data"
    }
   ],
   "source": [
    "# Bar plot for top 10 most frequent study programs\n",
    "\n",
    "df['Study Program'].value_counts()\n",
    "# Extract study programs and count occurrences\n",
    "study_programs_series = df['Study Program'].str.split(expand=True).stack() #\n",
    "study_program_counts = study_programs_series.value_counts()\n",
    "\n",
    "# Get the top 10 most frequent study programs\n",
    "top_10_study_programs = study_program_counts.head(10)\n",
    "\n",
    "# Convert to DataFrame for plotting\n",
    "top_10_study_programs_df = top_10_study_programs.reset_index()\n",
    "top_10_study_programs_df.columns = ['Study Program', 'Frequency']\n",
    "\n",
    "# Plotting\n",
    "plt.figure(figsize=(16, 6))\n",
    "sns.barplot(x='Frequency', y='Study Program', data=top_10_study_programs_df, palette='coolwarm')\n",
    "plt.title('Top 10 Most Frequent Study Programs')\n",
    "plt.xlabel('Frequency')\n",
    "plt.ylabel('Study Program')\n",
    "plt.show()"
   ]
  },
  {
   "cell_type": "markdown",
   "metadata": {},
   "source": [
    "**Figure - 11** : The bar plot show Top 10 Most frequent of study program\n",
    "\n",
    "**Answer**: The bar plot displays the top 10 most frequent study programs among intermediate colleges. The most common programs are highlighted, providing insight into popular fields of study among students"
   ]
  },
  {
   "cell_type": "markdown",
   "metadata": {},
   "source": [
    "### Q 10 : What are the Top 10 cities by count of study Programs ?"
   ]
  },
  {
   "cell_type": "code",
   "execution_count": 62,
   "metadata": {},
   "outputs": [
    {
     "data": {
      "image/png": "[encoded data removed]",
      "text/plain": [
       "<Figure size 1600x600 with 1 Axes>"
      ]
     },
     "metadata": {},
     "output_type": "display_data"
    }
   ],
   "source": [
    "# Top 10 Cities by Count of Study Programs\n",
    "top_10_cities_program_count = df.groupby('City')['Study Program'].count().nlargest(10).reset_index().rename(columns={'Study Program': 'Program Count'})\n",
    "\n",
    "plt.figure(figsize=(16, 6))\n",
    "sns.barplot(x='City', y='Program Count', data=top_10_cities_program_count, palette='coolwarm')\n",
    "plt.title('Top 10 Cities by Count of Study Programs')\n",
    "plt.xticks(rotation=45)\n",
    "plt.xlabel('City')\n",
    "plt.ylabel('Number of Study Programs')\n",
    "plt.show()\n"
   ]
  },
  {
   "cell_type": "markdown",
   "metadata": {},
   "source": [
    "**Figure - 12:** This bar chart showcases the top 10 cities ranked by the Count of study programs offered by  colleges\n",
    "\n",
    "**Answer**: The bar plot displays the number of study programs offered in the top 10 cities with the highest program counts among intermediate colleges. It highlights the cities with the most diverse range of study programs available, providing insights into the educational diversity across different urban centers"
   ]
  },
  {
   "cell_type": "markdown",
   "metadata": {},
   "source": [
    "# **8.0 Summary:**\n",
    "**Question:1**: What is the distribution of colleges by sector (Public vs. Private)?\\\n",
    "**Answer:1** : The count plot shows that there are more **`Private`** colleges than **`Public`** colleges in the dataset\\\n",
    "**Question:2**: What are the top 10 cities by the number of colleges?\\\n",
    "**Answer:2** :  The Barplot shows that among the top 10 Cities are **`Lahore`**, **`Rawalpindi`**, **`Islamabad`**, **`Karachi`**, **`Faisalabad`**, **`Peshawar`**, **`Sargodha`**, **`Gujranwala`**, **`Multan`** and **`Bahawalpur`** colleges in the dataset\\\n",
    "**Question:3**: What is the Percentage of the Colleges by Regions?\\\n",
    "**Answer:3** : The pie chart illustrates the distribution of colleges across different regions. The chart clearly shows the proportion of colleges in each region, highlighting the regions with the most and least number of colleges. This visualization helps in understanding the regional concentration of educational institutions, which can be important for policy-making, resource allocation, and identifying areas needing educational development.\\\n",
    "**Question:4**: What is the Distribution of Colleges by Region, City, and Sector?\\\n",
    "**Answer:4** : The sunburst plot displays the distribution of intermediate colleges in Pakistan by region, city, and sector. It highlights the concentration of colleges in different areas and their division into public and private sectors, aiding in understanding the geographic spread and sectoral distribution of educational institutions.\\\n",
    "**Question:5**: What is the sector distribution by city?\\\n",
    "**Answer:5** : The bar chart shows the proportion of public and private sector intermediate colleges in Pakistan's top 10 cities. It visually compares the distribution of colleges by sector across different cities, highlighting regional variations in educational infrastructure.\\\n",
    "**Question:6**: What is the sector distribution by Region?\\\n",
    "**Answer:6** :  The bar plot illustrates the proportion of public and private sector intermediate colleges across different regions in Pakistan. It visually compares how sectors are distributed geographically, offering insights into regional disparities and concentrations of educational institutions by sector.\\\n",
    "**Question:7**: What are the rating distribution by the Region? \\\n",
    "**Answer:7** :  The heatmap visualizes the distribution of ratings among intermediate colleges across different regions in Pakistan. Each cell represents the count of colleges with a specific rating in a particular region, providing a clear overview of regional variations in educational quality as assessed by ratings.\\\n",
    "**Question:8**: What is the average Rating of sectors?\\\n",
    "**Answer:8** : The pie chart visually represents the distribution of sectors (public, private, unknown) in the dataset. It shows the proportion of each sector type among the intermediate colleges, providing an overview of how colleges are categorized across different sectors\\\n",
    "**Question:9**: What are the Top 10 Most Frequent Study Programs?\\\n",
    "**Answer:9** : The bar plot displays the top 10 most frequent study programs among intermediate colleges. The most common programs are highlighted, providing insight into popular fields of study among students\\\n",
    "**Question:10**: What are the Top 10 cities by count of study Programs ?\\\n",
    "**Answer:10** :The bar plot displays the number of study programs offered in the top 10 cities with the highest program counts among intermediate colleges. It highlights the cities with the most diverse range of study programs available, providing insights into the educational diversity across different urban centers"
   ]
  },
  {
   "cell_type": "markdown",
   "metadata": {},
   "source": [
    "# **Insights from the Analysis as Follows**:\n",
    "\n",
    "1. **Sector Distribution:** The dataset predominantly comprises private colleges, outnumbering public institutions, highlighting the significant presence of private sector education providers.\n",
    "\n",
    "2. **Top Cities by College Count:** Major educational hubs include Lahore, Rawalpindi, Islamabad, Karachi, and others, indicating regional concentrations of colleges and educational infrastructure.\n",
    "\n",
    "3. **Regional College Distribution:** The pie chart showcases varying college densities across regions, emphasizing the need for targeted educational initiatives in less represented areas.\n",
    "\n",
    "4. **Regional, City, and Sectoral Analysis:** The sunburst plot and bar charts underscore how colleges are geographically and sectorally distributed, crucial for understanding educational access disparities and planning interventions.\n",
    "\n",
    "5. **Sector Distribution by City and Region:** Variations in sector distribution across cities and regions reveal disparities in educational governance and infrastructure, suggesting areas for policy focus.\n",
    "\n",
    "6. **Rating Distribution:** The heatmap highlights differing educational quality perceptions across regions, signaling areas for potential quality improvement measures.\n",
    "\n",
    "7. **Average Sector Ratings:** Public and private sectors show varying average ratings, influencing perceptions of educational quality and institutional choice.\n",
    "\n",
    "8. **Top Study Programs:** Key study programs such as [list top programs] dominate educational offerings, reflecting student demand and curriculum emphasis.\n",
    "\n",
    "9. **Top Cities by Study Programs:** Urban centers like [list top cities] offer diverse study programs, promoting educational diversity and specialization.\n",
    "\n",
    "**Conclusions and Findings:**\n",
    "\n"
   ]
  },
  {
   "cell_type": "markdown",
   "metadata": {},
   "source": [
    "# 9.0 **Conclusions and Findings of  the EDA**\n",
    "\n",
    "The EDA reveals a dynamic educational landscape in Pakistan characterized by a strong private sector presence concentrated in major cities. Regional disparities in college distribution and quality ratings underscore the importance of equitable educational development across all regions. \n",
    "\n",
    "- **Recommendations for Data Collectors:** Continual data collection on sectoral trends, regional educational disparities, and program popularity can guide strategic planning and resource allocation.\n",
    "\n",
    "- **Suggestions for Policymakers:** Implementing policies that foster equitable access to quality education, incentivize program diversification, and enhance institutional ratings can improve overall educational standards nationwide.\n",
    "\n",
    "- **Addressing Unknown Data:** It is crucial to address missing or unknown data, especially in the affiliation column, to provide a comprehensive understanding of institutional affiliations and improve the dataset's completeness for future analyses.\n",
    "\n",
    "This comprehensive analysis not only informs educational stakeholders but also supports evidence-based policymaking to foster a robust and inclusive educational system across Pakistan.\n"
   ]
  },
  {
   "cell_type": "markdown",
   "metadata": {},
   "source": [
    "# Contact Here:\n",
    "To get in touch, follow, or provide corrections, please use the link provided below:\n",
    "\n",
    "[<img src=\"https://raw.githubusercontent.com/FortAwesome/Font-Awesome/6.x/svgs/brands/linkedin.svg\" width=\"50\" height=\"50\">](https://www.linkedin.com/in/muneerahmd/)\n",
    "[<img src=\"https://raw.githubusercontent.com/FortAwesome/Font-Awesome/6.x/svgs/brands/twitter.svg\" width=\"50\" height=\"50\">](https://twitter.com/muneer_ahmed87)\n",
    "[<img src=\"https://raw.githubusercontent.com/FortAwesome/Font-Awesome/6.x/svgs/brands/facebook.svg\" width=\"50\" height=\"50\">](https://www.facebook.com/muneer_ahmed87/)"
   ]
  }
 ],
 "metadata": {
  "kernelspec": {
   "display_name": "eda_env",
   "language": "python",
   "name": "python3"
  },
  "language_info": {
   "codemirror_mode": {
    "name": "ipython",
    "version": 3
   },
   "file_extension": ".py",
   "mimetype": "text/x-python",
   "name": "python",
   "nbconvert_exporter": "python",
   "pygments_lexer": "ipython3",
   "version": "3.12.3"
  }
 },
 "nbformat": 4,
 "nbformat_minor": 2
}
